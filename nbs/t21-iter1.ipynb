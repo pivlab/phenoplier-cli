{
 "cells": [
  {
   "cell_type": "markdown",
   "id": "32f60700",
   "metadata": {},
   "source": [
    "## Set up development environment"
   ]
  },
  {
   "cell_type": "code",
   "execution_count": 6,
   "id": "initial_id",
   "metadata": {
    "ExecuteTime": {
     "end_time": "2024-08-08T17:46:05.275235Z",
     "start_time": "2024-08-08T17:46:05.269556Z"
    },
    "collapsed": true
   },
   "outputs": [
    {
     "name": "stdout",
     "output_type": "stream",
     "text": [
      "/home/haoyu/_database/projs/phenoplier-cli\n"
     ]
    }
   ],
   "source": [
    "%%sh\n",
    "pwd\n"
   ]
  },
  {
   "cell_type": "code",
   "execution_count": 7,
   "id": "edcb834d5a45c8dd",
   "metadata": {
    "ExecuteTime": {
     "end_time": "2024-08-08T17:46:20.557581Z",
     "start_time": "2024-08-08T17:46:20.555563Z"
    }
   },
   "outputs": [
    {
     "name": "stdout",
     "output_type": "stream",
     "text": [
      "# Create development environment for the project\n",
      "\n",
      "conda env create -f environment.yml -n phenoplier-cli\n",
      "conda activate phenoplier-cli\n",
      "poetry install --no-root\n"
     ]
    }
   ],
   "source": [
    "%%sh\n",
    "cat ./scripts/setup_dev.sh"
   ]
  },
  {
   "cell_type": "code",
   "execution_count": 8,
   "id": "94cfc1bfda51e130",
   "metadata": {},
   "outputs": [
    {
     "name": "stdout",
     "output_type": "stream",
     "text": [
      "Retrieving notices: ...working... done\n",
      "Channels:\n",
      " - conda-forge\n",
      " - defaults\n",
      "Platform: linux-64\n",
      "Collecting package metadata (repodata.json): ...working... done\n",
      "Solving environment: ...working... done\n",
      "\n",
      "Downloading and Extracting Packages: ...working... done\n",
      "Preparing transaction: ...working... done\n",
      "Verifying transaction: ...working... done\n",
      "Executing transaction: ...working... done\n",
      "#\n",
      "# To activate this environment, use\n",
      "#\n",
      "#     $ conda activate phenoplier-cli\n",
      "#\n",
      "# To deactivate an active environment, use\n",
      "#\n",
      "#     $ conda deactivate\n",
      "\n"
     ]
    },
    {
     "name": "stderr",
     "output_type": "stream",
     "text": [
      "\n",
      "CondaError: Run 'conda init' before 'conda activate'\n",
      "\n"
     ]
    },
    {
     "name": "stdout",
     "output_type": "stream",
     "text": [
      "Installing dependencies from lock file\n",
      "\n",
      "Package operations: 0 installs, 21 updates, 0 removals\n",
      "\n",
      "  - Updating numpy (1.26.4 /croot/numpy_and_numpy_base_1708638617955/work/dist/numpy-1.26.4-cp312-cp312-linux_x86_64.whl -> 1.26.4)\n"
     ]
    },
    {
     "name": "stderr",
     "output_type": "stream",
     "text": [
      "/home/haoyu/.conda/envs/cli/lib/python3.12/site-packages/secretstorage/util.py:46: UserWarning: Passing unwrap= to .send_and_get_reply() is deprecated and will break in a future version of Jeepney.\n",
      "  return self._connection.send_and_get_reply(msg, unwrap=True)\n",
      "Installing /home/haoyu/.conda/envs/cli/lib/python3.12/site-packages/numpy.libs/libopenblas64_p-r0-0cf96a72.3.23.dev.so over existing file\n",
      "Installing /home/haoyu/.conda/envs/cli/lib/python3.12/site-packages/numpy.libs/libquadmath-96973f99.so.0.0.0 over existing file\n",
      "Installing /home/haoyu/.conda/envs/cli/lib/python3.12/site-packages/numpy.libs/libgfortran-040039e1.so.5.0.0 over existing file\n"
     ]
    },
    {
     "name": "stdout",
     "output_type": "stream",
     "text": [
      "  - Updating asttokens (2.0.5 /opt/conda/conda-bld/asttokens_1646925590279/work -> 2.4.1)\n",
      "  - Updating executing (0.8.3 /opt/conda/conda-bld/executing_1646925071911/work -> 2.0.1)\n",
      "  - Updating packaging (24.1 /croot/packaging_1720101850331/work -> 24.1)\n",
      "  - Updating parso (0.8.3 /opt/conda/conda-bld/parso_1641458642106/work -> 0.8.4)\n",
      "  - Updating pure-eval (0.2.2 /opt/conda/conda-bld/pure_eval_1646925070566/work -> 0.2.3)\n",
      "  - Updating pygments (2.15.1 /work/perseverance-python-buildout/croot/pygments_1698846270603/work -> 2.18.0)\n",
      "  - Updating python-dateutil (2.9.0.post0 /croot/python-dateutil_1716495738603/work -> 2.9.0.post0)\n",
      "  - Updating pytz (2024.1 /croot/pytz_1713974312559/work -> 2024.1)\n",
      "  - Updating traitlets (5.14.3 /croot/traitlets_1718227057033/work -> 5.14.3)\n"
     ]
    },
    {
     "name": "stderr",
     "output_type": "stream",
     "text": [
      "Installing /home/haoyu/.conda/envs/cli/lib/python3.12/site-packages/asttokens/astroid_compat.py over existing file\n",
      "Installing /home/haoyu/.conda/envs/cli/lib/python3.12/site-packages/asttokens/py.typed over existing file\n",
      "Installing /home/haoyu/.conda/envs/cli/lib/python3.12/site-packages/asttokens-2.4.1.dist-info/LICENSE over existing file\n",
      "Installing /home/haoyu/.conda/envs/cli/lib/python3.12/site-packages/asttokens-2.4.1.dist-info/METADATA over existing file\n",
      "Installing /home/haoyu/.conda/envs/cli/lib/python3.12/site-packages/asttokens-2.4.1.dist-info/WHEEL over existing file\n",
      "Installing /home/haoyu/.conda/envs/cli/lib/python3.12/site-packages/asttokens-2.4.1.dist-info/top_level.txt over existing file\n",
      "Installing /home/haoyu/.conda/envs/cli/lib/python3.12/site-packages/asttokens-2.4.1.dist-info/INSTALLER over existing file\n",
      "Installing /home/haoyu/.conda/envs/cli/lib/python3.12/site-packages/asttokens-2.4.1.dist-info/RECORD over existing file\n",
      "Installing /home/haoyu/.conda/envs/cli/lib/python3.12/site-packages/parso/py.typed over existing file\n",
      "Installing /home/haoyu/.conda/envs/cli/lib/python3.12/site-packages/parso/python/grammar313.txt over existing file\n",
      "Installing /home/haoyu/.conda/envs/cli/lib/python3.12/site-packages/parso-0.8.4.dist-info/AUTHORS.txt over existing file\n",
      "Installing /home/haoyu/.conda/envs/cli/lib/python3.12/site-packages/parso-0.8.4.dist-info/LICENSE.txt over existing file\n",
      "Installing /home/haoyu/.conda/envs/cli/lib/python3.12/site-packages/parso-0.8.4.dist-info/METADATA over existing file\n",
      "Installing /home/haoyu/.conda/envs/cli/lib/python3.12/site-packages/parso-0.8.4.dist-info/WHEEL over existing file\n",
      "Installing /home/haoyu/.conda/envs/cli/lib/python3.12/site-packages/parso-0.8.4.dist-info/top_level.txt over existing file\n",
      "Installing /home/haoyu/.conda/envs/cli/lib/python3.12/site-packages/parso-0.8.4.dist-info/INSTALLER over existing file\n",
      "Installing /home/haoyu/.conda/envs/cli/lib/python3.12/site-packages/parso-0.8.4.dist-info/RECORD over existing file\n"
     ]
    },
    {
     "name": "stdout",
     "output_type": "stream",
     "text": [
      "  - Updating blosc2 (2.7.0 -> 2.7.1)\n",
      "  - Updating decorator (5.1.1 /opt/conda/conda-bld/decorator_1643638310831/work -> 5.1.1)\n",
      "  - Updating jedi (0.19.1 /croot/jedi_1721058342488/work -> 0.19.1)\n",
      "  - Updating matplotlib-inline (0.1.6 /work/perseverance-python-buildout/croot/matplotlib-inline_1698864771271/work -> 0.1.7)\n",
      "  - Updating prompt-toolkit (3.0.43 /croot/prompt-toolkit_1704404351921/work -> 3.0.47)\n",
      "  - Updating pytest (8.2.2 -> 8.3.2)\n",
      "  - Updating setuptools (70.3.0 -> 72.1.0)\n",
      "  - Updating stack-data (0.2.0 /opt/conda/conda-bld/stack_data_1646927590127/work -> 0.6.3)\n"
     ]
    },
    {
     "name": "stderr",
     "output_type": "stream",
     "text": [
      "Installing /home/haoyu/.conda/envs/cli/lib/python3.12/site-packages/matplotlib_inline-0.1.7.dist-info/LICENSE over existing file\n",
      "Installing /home/haoyu/.conda/envs/cli/lib/python3.12/site-packages/matplotlib_inline-0.1.7.dist-info/METADATA over existing file\n",
      "Installing /home/haoyu/.conda/envs/cli/lib/python3.12/site-packages/matplotlib_inline-0.1.7.dist-info/WHEEL over existing file\n",
      "Installing /home/haoyu/.conda/envs/cli/lib/python3.12/site-packages/matplotlib_inline-0.1.7.dist-info/entry_points.txt over existing file\n",
      "Installing /home/haoyu/.conda/envs/cli/lib/python3.12/site-packages/matplotlib_inline-0.1.7.dist-info/top_level.txt over existing file\n",
      "Installing /home/haoyu/.conda/envs/cli/lib/python3.12/site-packages/matplotlib_inline-0.1.7.dist-info/INSTALLER over existing file\n",
      "Installing /home/haoyu/.conda/envs/cli/lib/python3.12/site-packages/matplotlib_inline-0.1.7.dist-info/RECORD over existing file\n",
      "Installing /home/haoyu/.conda/envs/cli/lib/python3.12/site-packages/pkg_resources/api_tests.txt over existing file\n",
      "Installing /home/haoyu/.conda/envs/cli/lib/python3.12/site-packages/pkg_resources/py.typed over existing file\n",
      "Installing /home/haoyu/.conda/envs/cli/lib/python3.12/site-packages/pkg_resources/tests/__init__.py over existing file\n",
      "Installing /home/haoyu/.conda/envs/cli/lib/python3.12/site-packages/pkg_resources/tests/test_find_distributions.py over existing file\n",
      "Installing /home/haoyu/.conda/envs/cli/lib/python3.12/site-packages/pkg_resources/tests/test_integration_zope_interface.py over existing file\n",
      "Installing /home/haoyu/.conda/envs/cli/lib/python3.12/site-packages/pkg_resources/tests/test_markers.py over existing file\n",
      "Installing /home/haoyu/.conda/envs/cli/lib/python3.12/site-packages/pkg_resources/tests/test_pkg_resources.py over existing file\n",
      "Installing /home/haoyu/.conda/envs/cli/lib/python3.12/site-packages/pkg_resources/tests/test_resources.py over existing file\n",
      "Installing /home/haoyu/.conda/envs/cli/lib/python3.12/site-packages/pkg_resources/tests/test_working_set.py over existing file\n",
      "Installing /home/haoyu/.conda/envs/cli/lib/python3.12/site-packages/pkg_resources/tests/data/my-test-package-source/setup.cfg over existing file\n",
      "Installing /home/haoyu/.conda/envs/cli/lib/python3.12/site-packages/pkg_resources/tests/data/my-test-package-source/setup.py over existing file\n",
      "Installing /home/haoyu/.conda/envs/cli/lib/python3.12/site-packages/pkg_resources/tests/data/my-test-package-zip/my-test-package.zip over existing file\n",
      "Installing /home/haoyu/.conda/envs/cli/lib/python3.12/site-packages/pkg_resources/tests/data/my-test-package_unpacked-egg/my_test_package-1.0-py3.7.egg/EGG-INFO/PKG-INFO over existing file\n",
      "Installing /home/haoyu/.conda/envs/cli/lib/python3.12/site-packages/pkg_resources/tests/data/my-test-package_unpacked-egg/my_test_package-1.0-py3.7.egg/EGG-INFO/SOURCES.txt over existing file\n",
      "Installing /home/haoyu/.conda/envs/cli/lib/python3.12/site-packages/pkg_resources/tests/data/my-test-package_unpacked-egg/my_test_package-1.0-py3.7.egg/EGG-INFO/dependency_links.txt over existing file\n",
      "Installing /home/haoyu/.conda/envs/cli/lib/python3.12/site-packages/pkg_resources/tests/data/my-test-package_unpacked-egg/my_test_package-1.0-py3.7.egg/EGG-INFO/top_level.txt over existing file\n",
      "Installing /home/haoyu/.conda/envs/cli/lib/python3.12/site-packages/pkg_resources/tests/data/my-test-package_unpacked-egg/my_test_package-1.0-py3.7.egg/EGG-INFO/zip-safe over existing file\n",
      "Installing /home/haoyu/.conda/envs/cli/lib/python3.12/site-packages/pkg_resources/tests/data/my-test-package_zipped-egg/my_test_package-1.0-py3.7.egg over existing file\n",
      "Installing /home/haoyu/.conda/envs/cli/lib/python3.12/site-packages/setuptools/_distutils/command/wininst-10.0-amd64.exe over existing file\n",
      "Installing /home/haoyu/.conda/envs/cli/lib/python3.12/site-packages/setuptools/_distutils/command/wininst-10.0.exe over existing file\n",
      "Installing /home/haoyu/.conda/envs/cli/lib/python3.12/site-packages/setuptools/_distutils/command/wininst-14.0-amd64.exe over existing file\n",
      "Installing /home/haoyu/.conda/envs/cli/lib/python3.12/site-packages/setuptools/_distutils/command/wininst-14.0.exe over existing file\n",
      "Installing /home/haoyu/.conda/envs/cli/lib/python3.12/site-packages/setuptools/_distutils/command/wininst-6.0.exe over existing file\n",
      "Installing /home/haoyu/.conda/envs/cli/lib/python3.12/site-packages/setuptools/_distutils/command/wininst-7.1.exe over existing file\n",
      "Installing /home/haoyu/.conda/envs/cli/lib/python3.12/site-packages/setuptools/_distutils/command/wininst-8.0.exe over existing file\n",
      "Installing /home/haoyu/.conda/envs/cli/lib/python3.12/site-packages/setuptools/_distutils/command/wininst-9.0-amd64.exe over existing file\n",
      "Installing /home/haoyu/.conda/envs/cli/lib/python3.12/site-packages/setuptools/_distutils/command/wininst-9.0.exe over existing file\n",
      "Installing /home/haoyu/.conda/envs/cli/lib/python3.12/site-packages/setuptools/_distutils/tests/__init__.py over existing file\n",
      "Installing /home/haoyu/.conda/envs/cli/lib/python3.12/site-packages/setuptools/_distutils/tests/support.py over existing file\n",
      "Installing /home/haoyu/.conda/envs/cli/lib/python3.12/site-packages/setuptools/_distutils/tests/test_archive_util.py over existing file\n",
      "Installing /home/haoyu/.conda/envs/cli/lib/python3.12/site-packages/setuptools/_distutils/tests/test_bdist.py over existing file\n",
      "Installing /home/haoyu/.conda/envs/cli/lib/python3.12/site-packages/setuptools/_distutils/tests/test_bdist_dumb.py over existing file\n",
      "Installing /home/haoyu/.conda/envs/cli/lib/python3.12/site-packages/setuptools/_distutils/tests/test_bdist_rpm.py over existing file\n",
      "Installing /home/haoyu/.conda/envs/cli/lib/python3.12/site-packages/setuptools/_distutils/tests/test_build.py over existing file\n",
      "Installing /home/haoyu/.conda/envs/cli/lib/python3.12/site-packages/setuptools/_distutils/tests/test_build_clib.py over existing file\n",
      "Installing /home/haoyu/.conda/envs/cli/lib/python3.12/site-packages/setuptools/_distutils/tests/test_build_ext.py over existing file\n",
      "Installing /home/haoyu/.conda/envs/cli/lib/python3.12/site-packages/setuptools/_distutils/tests/test_build_py.py over existing file\n",
      "Installing /home/haoyu/.conda/envs/cli/lib/python3.12/site-packages/setuptools/_distutils/tests/test_build_scripts.py over existing file\n",
      "Installing /home/haoyu/.conda/envs/cli/lib/python3.12/site-packages/setuptools/_distutils/tests/test_ccompiler.py over existing file\n",
      "Installing /home/haoyu/.conda/envs/cli/lib/python3.12/site-packages/setuptools/_distutils/tests/test_check.py over existing file\n",
      "Installing /home/haoyu/.conda/envs/cli/lib/python3.12/site-packages/setuptools/_distutils/tests/test_clean.py over existing file\n",
      "Installing /home/haoyu/.conda/envs/cli/lib/python3.12/site-packages/setuptools/_distutils/tests/test_cmd.py over existing file\n",
      "Installing /home/haoyu/.conda/envs/cli/lib/python3.12/site-packages/setuptools/_distutils/tests/test_config.py over existing file\n",
      "Installing /home/haoyu/.conda/envs/cli/lib/python3.12/site-packages/setuptools/_distutils/tests/test_config_cmd.py over existing file\n",
      "Installing /home/haoyu/.conda/envs/cli/lib/python3.12/site-packages/setuptools/_distutils/tests/test_core.py over existing file\n",
      "Installing /home/haoyu/.conda/envs/cli/lib/python3.12/site-packages/setuptools/_distutils/tests/test_cygwinccompiler.py over existing file\n",
      "Installing /home/haoyu/.conda/envs/cli/lib/python3.12/site-packages/setuptools/_distutils/tests/test_dir_util.py over existing file\n",
      "Installing /home/haoyu/.conda/envs/cli/lib/python3.12/site-packages/setuptools/_distutils/tests/test_dist.py over existing file\n",
      "Installing /home/haoyu/.conda/envs/cli/lib/python3.12/site-packages/setuptools/_distutils/tests/test_extension.py over existing file\n",
      "Installing /home/haoyu/.conda/envs/cli/lib/python3.12/site-packages/setuptools/_distutils/tests/test_file_util.py over existing file\n",
      "Installing /home/haoyu/.conda/envs/cli/lib/python3.12/site-packages/setuptools/_distutils/tests/test_filelist.py over existing file\n",
      "Installing /home/haoyu/.conda/envs/cli/lib/python3.12/site-packages/setuptools/_distutils/tests/test_install.py over existing file\n",
      "Installing /home/haoyu/.conda/envs/cli/lib/python3.12/site-packages/setuptools/_distutils/tests/test_install_data.py over existing file\n",
      "Installing /home/haoyu/.conda/envs/cli/lib/python3.12/site-packages/setuptools/_distutils/tests/test_install_headers.py over existing file\n",
      "Installing /home/haoyu/.conda/envs/cli/lib/python3.12/site-packages/setuptools/_distutils/tests/test_install_lib.py over existing file\n",
      "Installing /home/haoyu/.conda/envs/cli/lib/python3.12/site-packages/setuptools/_distutils/tests/test_install_scripts.py over existing file\n",
      "Installing /home/haoyu/.conda/envs/cli/lib/python3.12/site-packages/setuptools/_distutils/tests/test_log.py over existing file\n",
      "Installing /home/haoyu/.conda/envs/cli/lib/python3.12/site-packages/setuptools/_distutils/tests/test_mingwccompiler.py over existing file\n",
      "Installing /home/haoyu/.conda/envs/cli/lib/python3.12/site-packages/setuptools/_distutils/tests/test_modified.py over existing file\n",
      "Installing /home/haoyu/.conda/envs/cli/lib/python3.12/site-packages/setuptools/_distutils/tests/test_msvc9compiler.py over existing file\n",
      "Installing /home/haoyu/.conda/envs/cli/lib/python3.12/site-packages/setuptools/_distutils/tests/test_msvccompiler.py over existing file\n",
      "Installing /home/haoyu/.conda/envs/cli/lib/python3.12/site-packages/setuptools/_distutils/tests/test_register.py over existing file\n",
      "Installing /home/haoyu/.conda/envs/cli/lib/python3.12/site-packages/setuptools/_distutils/tests/test_sdist.py over existing file\n",
      "Installing /home/haoyu/.conda/envs/cli/lib/python3.12/site-packages/setuptools/_distutils/tests/test_spawn.py over existing file\n",
      "Installing /home/haoyu/.conda/envs/cli/lib/python3.12/site-packages/setuptools/_distutils/tests/test_sysconfig.py over existing file\n",
      "Installing /home/haoyu/.conda/envs/cli/lib/python3.12/site-packages/setuptools/_distutils/tests/test_text_file.py over existing file\n",
      "Installing /home/haoyu/.conda/envs/cli/lib/python3.12/site-packages/setuptools/_distutils/tests/test_unixccompiler.py over existing file\n",
      "Installing /home/haoyu/.conda/envs/cli/lib/python3.12/site-packages/setuptools/_distutils/tests/test_upload.py over existing file\n",
      "Installing /home/haoyu/.conda/envs/cli/lib/python3.12/site-packages/setuptools/_distutils/tests/test_util.py over existing file\n",
      "Installing /home/haoyu/.conda/envs/cli/lib/python3.12/site-packages/setuptools/_distutils/tests/test_version.py over existing file\n",
      "Installing /home/haoyu/.conda/envs/cli/lib/python3.12/site-packages/setuptools/_distutils/tests/test_versionpredicate.py over existing file\n",
      "Installing /home/haoyu/.conda/envs/cli/lib/python3.12/site-packages/setuptools/_distutils/tests/unix_compat.py over existing file\n",
      "Installing /home/haoyu/.conda/envs/cli/lib/python3.12/site-packages/setuptools/_distutils/tests/compat/__init__.py over existing file\n",
      "Installing /home/haoyu/.conda/envs/cli/lib/python3.12/site-packages/setuptools/_distutils/tests/compat/py38.py over existing file\n",
      "Installing /home/haoyu/.conda/envs/cli/lib/python3.12/site-packages/setuptools/_vendor/ruff.toml over existing file\n",
      "Installing /home/haoyu/.conda/envs/cli/lib/python3.12/site-packages/setuptools/_vendor/typing_extensions.py over existing file\n",
      "Installing /home/haoyu/.conda/envs/cli/lib/python3.12/site-packages/setuptools/_vendor/autocommand/__init__.py over existing file\n",
      "Installing /home/haoyu/.conda/envs/cli/lib/python3.12/site-packages/setuptools/_vendor/autocommand/autoasync.py over existing file\n",
      "Installing /home/haoyu/.conda/envs/cli/lib/python3.12/site-packages/setuptools/_vendor/autocommand/autocommand.py over existing file\n",
      "Installing /home/haoyu/.conda/envs/cli/lib/python3.12/site-packages/setuptools/_vendor/autocommand/automain.py over existing file\n",
      "Installing /home/haoyu/.conda/envs/cli/lib/python3.12/site-packages/setuptools/_vendor/autocommand/autoparse.py over existing file\n",
      "Installing /home/haoyu/.conda/envs/cli/lib/python3.12/site-packages/setuptools/_vendor/autocommand/errors.py over existing file\n",
      "Installing /home/haoyu/.conda/envs/cli/lib/python3.12/site-packages/setuptools/_vendor/backports/tarfile/__init__.py over existing file\n",
      "Installing /home/haoyu/.conda/envs/cli/lib/python3.12/site-packages/setuptools/_vendor/backports/tarfile/__main__.py over existing file\n",
      "Installing /home/haoyu/.conda/envs/cli/lib/python3.12/site-packages/setuptools/_vendor/backports/tarfile/compat/__init__.py over existing file\n",
      "Installing /home/haoyu/.conda/envs/cli/lib/python3.12/site-packages/setuptools/_vendor/backports/tarfile/compat/py38.py over existing file\n",
      "Installing /home/haoyu/.conda/envs/cli/lib/python3.12/site-packages/setuptools/_vendor/importlib_metadata/diagnose.py over existing file\n",
      "Installing /home/haoyu/.conda/envs/cli/lib/python3.12/site-packages/setuptools/_vendor/importlib_metadata/compat/__init__.py over existing file\n",
      "Installing /home/haoyu/.conda/envs/cli/lib/python3.12/site-packages/setuptools/_vendor/importlib_metadata/compat/py311.py over existing file\n",
      "Installing /home/haoyu/.conda/envs/cli/lib/python3.12/site-packages/setuptools/_vendor/importlib_metadata/compat/py39.py over existing file\n",
      "Installing /home/haoyu/.conda/envs/cli/lib/python3.12/site-packages/setuptools/_vendor/importlib_resources/functional.py over existing file\n",
      "Installing /home/haoyu/.conda/envs/cli/lib/python3.12/site-packages/setuptools/_vendor/importlib_resources/compat/__init__.py over existing file\n",
      "Installing /home/haoyu/.conda/envs/cli/lib/python3.12/site-packages/setuptools/_vendor/importlib_resources/compat/py38.py over existing file\n",
      "Installing /home/haoyu/.conda/envs/cli/lib/python3.12/site-packages/setuptools/_vendor/importlib_resources/compat/py39.py over existing file\n",
      "Installing /home/haoyu/.conda/envs/cli/lib/python3.12/site-packages/setuptools/_vendor/importlib_resources/future/__init__.py over existing file\n",
      "Installing /home/haoyu/.conda/envs/cli/lib/python3.12/site-packages/setuptools/_vendor/importlib_resources/future/adapters.py over existing file\n",
      "Installing /home/haoyu/.conda/envs/cli/lib/python3.12/site-packages/setuptools/_vendor/importlib_resources/tests/__init__.py over existing file\n",
      "Installing /home/haoyu/.conda/envs/cli/lib/python3.12/site-packages/setuptools/_vendor/importlib_resources/tests/_path.py over existing file\n",
      "Installing /home/haoyu/.conda/envs/cli/lib/python3.12/site-packages/setuptools/_vendor/importlib_resources/tests/test_compatibilty_files.py over existing file\n",
      "Installing /home/haoyu/.conda/envs/cli/lib/python3.12/site-packages/setuptools/_vendor/importlib_resources/tests/test_contents.py over existing file\n",
      "Installing /home/haoyu/.conda/envs/cli/lib/python3.12/site-packages/setuptools/_vendor/importlib_resources/tests/test_custom.py over existing file\n",
      "Installing /home/haoyu/.conda/envs/cli/lib/python3.12/site-packages/setuptools/_vendor/importlib_resources/tests/test_files.py over existing file\n",
      "Installing /home/haoyu/.conda/envs/cli/lib/python3.12/site-packages/setuptools/_vendor/importlib_resources/tests/test_functional.py over existing file\n",
      "Installing /home/haoyu/.conda/envs/cli/lib/python3.12/site-packages/setuptools/_vendor/importlib_resources/tests/test_open.py over existing file\n",
      "Installing /home/haoyu/.conda/envs/cli/lib/python3.12/site-packages/setuptools/_vendor/importlib_resources/tests/test_path.py over existing file\n",
      "Installing /home/haoyu/.conda/envs/cli/lib/python3.12/site-packages/setuptools/_vendor/importlib_resources/tests/test_read.py over existing file\n",
      "Installing /home/haoyu/.conda/envs/cli/lib/python3.12/site-packages/setuptools/_vendor/importlib_resources/tests/test_reader.py over existing file\n",
      "Installing /home/haoyu/.conda/envs/cli/lib/python3.12/site-packages/setuptools/_vendor/importlib_resources/tests/test_resource.py over existing file\n",
      "Installing /home/haoyu/.conda/envs/cli/lib/python3.12/site-packages/setuptools/_vendor/importlib_resources/tests/util.py over existing file\n",
      "Installing /home/haoyu/.conda/envs/cli/lib/python3.12/site-packages/setuptools/_vendor/importlib_resources/tests/zip.py over existing file\n",
      "Installing /home/haoyu/.conda/envs/cli/lib/python3.12/site-packages/setuptools/_vendor/importlib_resources/tests/compat/__init__.py over existing file\n",
      "Installing /home/haoyu/.conda/envs/cli/lib/python3.12/site-packages/setuptools/_vendor/importlib_resources/tests/compat/py312.py over existing file\n",
      "Installing /home/haoyu/.conda/envs/cli/lib/python3.12/site-packages/setuptools/_vendor/importlib_resources/tests/compat/py39.py over existing file\n",
      "Installing /home/haoyu/.conda/envs/cli/lib/python3.12/site-packages/setuptools/_vendor/importlib_resources/tests/data01/__init__.py over existing file\n",
      "Installing /home/haoyu/.conda/envs/cli/lib/python3.12/site-packages/setuptools/_vendor/importlib_resources/tests/data01/binary.file over existing file\n",
      "Installing /home/haoyu/.conda/envs/cli/lib/python3.12/site-packages/setuptools/_vendor/importlib_resources/tests/data01/utf-16.file over existing file\n",
      "Installing /home/haoyu/.conda/envs/cli/lib/python3.12/site-packages/setuptools/_vendor/importlib_resources/tests/data01/utf-8.file over existing file\n",
      "Installing /home/haoyu/.conda/envs/cli/lib/python3.12/site-packages/setuptools/_vendor/importlib_resources/tests/data01/subdirectory/__init__.py over existing file\n",
      "Installing /home/haoyu/.conda/envs/cli/lib/python3.12/site-packages/setuptools/_vendor/importlib_resources/tests/data01/subdirectory/binary.file over existing file\n",
      "Installing /home/haoyu/.conda/envs/cli/lib/python3.12/site-packages/setuptools/_vendor/importlib_resources/tests/data02/__init__.py over existing file\n",
      "Installing /home/haoyu/.conda/envs/cli/lib/python3.12/site-packages/setuptools/_vendor/importlib_resources/tests/data02/one/__init__.py over existing file\n",
      "Installing /home/haoyu/.conda/envs/cli/lib/python3.12/site-packages/setuptools/_vendor/importlib_resources/tests/data02/one/resource1.txt over existing file\n",
      "Installing /home/haoyu/.conda/envs/cli/lib/python3.12/site-packages/setuptools/_vendor/importlib_resources/tests/data02/subdirectory/subsubdir/resource.txt over existing file\n",
      "Installing /home/haoyu/.conda/envs/cli/lib/python3.12/site-packages/setuptools/_vendor/importlib_resources/tests/data02/two/__init__.py over existing file\n",
      "Installing /home/haoyu/.conda/envs/cli/lib/python3.12/site-packages/setuptools/_vendor/importlib_resources/tests/data02/two/resource2.txt over existing file\n",
      "Installing /home/haoyu/.conda/envs/cli/lib/python3.12/site-packages/setuptools/_vendor/importlib_resources/tests/namespacedata01/binary.file over existing file\n",
      "Installing /home/haoyu/.conda/envs/cli/lib/python3.12/site-packages/setuptools/_vendor/importlib_resources/tests/namespacedata01/utf-16.file over existing file\n",
      "Installing /home/haoyu/.conda/envs/cli/lib/python3.12/site-packages/setuptools/_vendor/importlib_resources/tests/namespacedata01/utf-8.file over existing file\n",
      "Installing /home/haoyu/.conda/envs/cli/lib/python3.12/site-packages/setuptools/_vendor/importlib_resources/tests/namespacedata01/subdirectory/binary.file over existing file\n",
      "Installing /home/haoyu/.conda/envs/cli/lib/python3.12/site-packages/setuptools/_vendor/inflect/__init__.py over existing file\n",
      "Installing /home/haoyu/.conda/envs/cli/lib/python3.12/site-packages/setuptools/_vendor/inflect/py.typed over existing file\n",
      "Installing /home/haoyu/.conda/envs/cli/lib/python3.12/site-packages/setuptools/_vendor/inflect/compat/__init__.py over existing file\n",
      "Installing /home/haoyu/.conda/envs/cli/lib/python3.12/site-packages/setuptools/_vendor/inflect/compat/py38.py over existing file\n",
      "Installing /home/haoyu/.conda/envs/cli/lib/python3.12/site-packages/setuptools/_vendor/jaraco/text/Lorem ipsum.txt over existing file\n",
      "Installing /home/haoyu/.conda/envs/cli/lib/python3.12/site-packages/setuptools/_vendor/jaraco/text/layouts.py over existing file\n",
      "Installing /home/haoyu/.conda/envs/cli/lib/python3.12/site-packages/setuptools/_vendor/jaraco/text/show-newlines.py over existing file\n",
      "Installing /home/haoyu/.conda/envs/cli/lib/python3.12/site-packages/setuptools/_vendor/jaraco/text/strip-prefix.py over existing file\n",
      "Installing /home/haoyu/.conda/envs/cli/lib/python3.12/site-packages/setuptools/_vendor/jaraco/text/to-dvorak.py over existing file\n",
      "Installing /home/haoyu/.conda/envs/cli/lib/python3.12/site-packages/setuptools/_vendor/jaraco/text/to-qwerty.py over existing file\n",
      "Installing /home/haoyu/.conda/envs/cli/lib/python3.12/site-packages/setuptools/_vendor/ordered_set/__init__.py over existing file\n",
      "Installing /home/haoyu/.conda/envs/cli/lib/python3.12/site-packages/setuptools/_vendor/ordered_set/py.typed over existing file\n",
      "Installing /home/haoyu/.conda/envs/cli/lib/python3.12/site-packages/setuptools/_vendor/platformdirs/__init__.py over existing file\n",
      "Installing /home/haoyu/.conda/envs/cli/lib/python3.12/site-packages/setuptools/_vendor/platformdirs/__main__.py over existing file\n",
      "Installing /home/haoyu/.conda/envs/cli/lib/python3.12/site-packages/setuptools/_vendor/platformdirs/android.py over existing file\n",
      "Installing /home/haoyu/.conda/envs/cli/lib/python3.12/site-packages/setuptools/_vendor/platformdirs/api.py over existing file\n",
      "Installing /home/haoyu/.conda/envs/cli/lib/python3.12/site-packages/setuptools/_vendor/platformdirs/macos.py over existing file\n",
      "Installing /home/haoyu/.conda/envs/cli/lib/python3.12/site-packages/setuptools/_vendor/platformdirs/py.typed over existing file\n",
      "Installing /home/haoyu/.conda/envs/cli/lib/python3.12/site-packages/setuptools/_vendor/platformdirs/unix.py over existing file\n",
      "Installing /home/haoyu/.conda/envs/cli/lib/python3.12/site-packages/setuptools/_vendor/platformdirs/version.py over existing file\n",
      "Installing /home/haoyu/.conda/envs/cli/lib/python3.12/site-packages/setuptools/_vendor/platformdirs/windows.py over existing file\n",
      "Installing /home/haoyu/.conda/envs/cli/lib/python3.12/site-packages/setuptools/_vendor/platformdirs-4.2.2.dist-info/licenses/LICENSE over existing file\n",
      "Installing /home/haoyu/.conda/envs/cli/lib/python3.12/site-packages/setuptools/_vendor/typeguard/__init__.py over existing file\n",
      "Installing /home/haoyu/.conda/envs/cli/lib/python3.12/site-packages/setuptools/_vendor/typeguard/_checkers.py over existing file\n",
      "Installing /home/haoyu/.conda/envs/cli/lib/python3.12/site-packages/setuptools/_vendor/typeguard/_config.py over existing file\n",
      "Installing /home/haoyu/.conda/envs/cli/lib/python3.12/site-packages/setuptools/_vendor/typeguard/_decorators.py over existing file\n",
      "Installing /home/haoyu/.conda/envs/cli/lib/python3.12/site-packages/setuptools/_vendor/typeguard/_exceptions.py over existing file\n",
      "Installing /home/haoyu/.conda/envs/cli/lib/python3.12/site-packages/setuptools/_vendor/typeguard/_functions.py over existing file\n",
      "Installing /home/haoyu/.conda/envs/cli/lib/python3.12/site-packages/setuptools/_vendor/typeguard/_importhook.py over existing file\n",
      "Installing /home/haoyu/.conda/envs/cli/lib/python3.12/site-packages/setuptools/_vendor/typeguard/_memo.py over existing file\n",
      "Installing /home/haoyu/.conda/envs/cli/lib/python3.12/site-packages/setuptools/_vendor/typeguard/_pytest_plugin.py over existing file\n",
      "Installing /home/haoyu/.conda/envs/cli/lib/python3.12/site-packages/setuptools/_vendor/typeguard/_suppression.py over existing file\n",
      "Installing /home/haoyu/.conda/envs/cli/lib/python3.12/site-packages/setuptools/_vendor/typeguard/_transformer.py over existing file\n",
      "Installing /home/haoyu/.conda/envs/cli/lib/python3.12/site-packages/setuptools/_vendor/typeguard/_union_transformer.py over existing file\n",
      "Installing /home/haoyu/.conda/envs/cli/lib/python3.12/site-packages/setuptools/_vendor/typeguard/_utils.py over existing file\n",
      "Installing /home/haoyu/.conda/envs/cli/lib/python3.12/site-packages/setuptools/_vendor/typeguard/py.typed over existing file\n",
      "Installing /home/haoyu/.conda/envs/cli/lib/python3.12/site-packages/setuptools/_vendor/wheel/__main__.py over existing file\n",
      "Installing /home/haoyu/.conda/envs/cli/lib/python3.12/site-packages/setuptools/_vendor/wheel/_setuptools_logging.py over existing file\n",
      "Installing /home/haoyu/.conda/envs/cli/lib/python3.12/site-packages/setuptools/_vendor/wheel/bdist_wheel.py over existing file\n",
      "Installing /home/haoyu/.conda/envs/cli/lib/python3.12/site-packages/setuptools/_vendor/wheel/cli/__init__.py over existing file\n",
      "Installing /home/haoyu/.conda/envs/cli/lib/python3.12/site-packages/setuptools/_vendor/wheel/cli/convert.py over existing file\n",
      "Installing /home/haoyu/.conda/envs/cli/lib/python3.12/site-packages/setuptools/_vendor/wheel/cli/pack.py over existing file\n",
      "Installing /home/haoyu/.conda/envs/cli/lib/python3.12/site-packages/setuptools/_vendor/wheel/cli/tags.py over existing file\n",
      "Installing /home/haoyu/.conda/envs/cli/lib/python3.12/site-packages/setuptools/_vendor/wheel/cli/unpack.py over existing file\n",
      "Installing /home/haoyu/.conda/envs/cli/lib/python3.12/site-packages/setuptools/_vendor/wheel/vendored/__init__.py over existing file\n",
      "Installing /home/haoyu/.conda/envs/cli/lib/python3.12/site-packages/setuptools/_vendor/wheel/vendored/vendor.txt over existing file\n",
      "Installing /home/haoyu/.conda/envs/cli/lib/python3.12/site-packages/setuptools/_vendor/wheel/vendored/packaging/__init__.py over existing file\n",
      "Installing /home/haoyu/.conda/envs/cli/lib/python3.12/site-packages/setuptools/_vendor/wheel/vendored/packaging/_elffile.py over existing file\n",
      "Installing /home/haoyu/.conda/envs/cli/lib/python3.12/site-packages/setuptools/_vendor/wheel/vendored/packaging/_manylinux.py over existing file\n",
      "Installing /home/haoyu/.conda/envs/cli/lib/python3.12/site-packages/setuptools/_vendor/wheel/vendored/packaging/_musllinux.py over existing file\n",
      "Installing /home/haoyu/.conda/envs/cli/lib/python3.12/site-packages/setuptools/_vendor/wheel/vendored/packaging/_parser.py over existing file\n",
      "Installing /home/haoyu/.conda/envs/cli/lib/python3.12/site-packages/setuptools/_vendor/wheel/vendored/packaging/_structures.py over existing file\n",
      "Installing /home/haoyu/.conda/envs/cli/lib/python3.12/site-packages/setuptools/_vendor/wheel/vendored/packaging/_tokenizer.py over existing file\n",
      "Installing /home/haoyu/.conda/envs/cli/lib/python3.12/site-packages/setuptools/_vendor/wheel/vendored/packaging/markers.py over existing file\n",
      "Installing /home/haoyu/.conda/envs/cli/lib/python3.12/site-packages/setuptools/_vendor/wheel/vendored/packaging/requirements.py over existing file\n",
      "Installing /home/haoyu/.conda/envs/cli/lib/python3.12/site-packages/setuptools/_vendor/wheel/vendored/packaging/specifiers.py over existing file\n",
      "Installing /home/haoyu/.conda/envs/cli/lib/python3.12/site-packages/setuptools/_vendor/wheel/vendored/packaging/tags.py over existing file\n",
      "Installing /home/haoyu/.conda/envs/cli/lib/python3.12/site-packages/setuptools/_vendor/wheel/vendored/packaging/utils.py over existing file\n",
      "Installing /home/haoyu/.conda/envs/cli/lib/python3.12/site-packages/setuptools/_vendor/wheel/vendored/packaging/version.py over existing file\n",
      "Installing /home/haoyu/.conda/envs/cli/lib/python3.12/site-packages/setuptools/_vendor/zipp/__init__.py over existing file\n",
      "Installing /home/haoyu/.conda/envs/cli/lib/python3.12/site-packages/setuptools/_vendor/zipp/glob.py over existing file\n",
      "Installing /home/haoyu/.conda/envs/cli/lib/python3.12/site-packages/setuptools/_vendor/zipp/compat/__init__.py over existing file\n",
      "Installing /home/haoyu/.conda/envs/cli/lib/python3.12/site-packages/setuptools/_vendor/zipp/compat/py310.py over existing file\n",
      "Installing /home/haoyu/.conda/envs/cli/lib/python3.12/site-packages/setuptools/tests/__init__.py over existing file\n",
      "Installing /home/haoyu/.conda/envs/cli/lib/python3.12/site-packages/setuptools/tests/contexts.py over existing file\n",
      "Installing /home/haoyu/.conda/envs/cli/lib/python3.12/site-packages/setuptools/tests/environment.py over existing file\n",
      "Installing /home/haoyu/.conda/envs/cli/lib/python3.12/site-packages/setuptools/tests/fixtures.py over existing file\n",
      "Installing /home/haoyu/.conda/envs/cli/lib/python3.12/site-packages/setuptools/tests/mod_with_constant.py over existing file\n",
      "Installing /home/haoyu/.conda/envs/cli/lib/python3.12/site-packages/setuptools/tests/namespaces.py over existing file\n",
      "Installing /home/haoyu/.conda/envs/cli/lib/python3.12/site-packages/setuptools/tests/script-with-bom.py over existing file\n",
      "Installing /home/haoyu/.conda/envs/cli/lib/python3.12/site-packages/setuptools/tests/server.py over existing file\n",
      "Installing /home/haoyu/.conda/envs/cli/lib/python3.12/site-packages/setuptools/tests/test_archive_util.py over existing file\n",
      "Installing /home/haoyu/.conda/envs/cli/lib/python3.12/site-packages/setuptools/tests/test_bdist_deprecations.py over existing file\n",
      "Installing /home/haoyu/.conda/envs/cli/lib/python3.12/site-packages/setuptools/tests/test_bdist_egg.py over existing file\n",
      "Installing /home/haoyu/.conda/envs/cli/lib/python3.12/site-packages/setuptools/tests/test_bdist_wheel.py over existing file\n",
      "Installing /home/haoyu/.conda/envs/cli/lib/python3.12/site-packages/setuptools/tests/test_build.py over existing file\n",
      "Installing /home/haoyu/.conda/envs/cli/lib/python3.12/site-packages/setuptools/tests/test_build_clib.py over existing file\n",
      "Installing /home/haoyu/.conda/envs/cli/lib/python3.12/site-packages/setuptools/tests/test_build_ext.py over existing file\n",
      "Installing /home/haoyu/.conda/envs/cli/lib/python3.12/site-packages/setuptools/tests/test_build_meta.py over existing file\n",
      "Installing /home/haoyu/.conda/envs/cli/lib/python3.12/site-packages/setuptools/tests/test_build_py.py over existing file\n",
      "Installing /home/haoyu/.conda/envs/cli/lib/python3.12/site-packages/setuptools/tests/test_config_discovery.py over existing file\n",
      "Installing /home/haoyu/.conda/envs/cli/lib/python3.12/site-packages/setuptools/tests/test_core_metadata.py over existing file\n",
      "Installing /home/haoyu/.conda/envs/cli/lib/python3.12/site-packages/setuptools/tests/test_depends.py over existing file\n",
      "Installing /home/haoyu/.conda/envs/cli/lib/python3.12/site-packages/setuptools/tests/test_develop.py over existing file\n",
      "Installing /home/haoyu/.conda/envs/cli/lib/python3.12/site-packages/setuptools/tests/test_dist.py over existing file\n",
      "Installing /home/haoyu/.conda/envs/cli/lib/python3.12/site-packages/setuptools/tests/test_dist_info.py over existing file\n",
      "Installing /home/haoyu/.conda/envs/cli/lib/python3.12/site-packages/setuptools/tests/test_distutils_adoption.py over existing file\n",
      "Installing /home/haoyu/.conda/envs/cli/lib/python3.12/site-packages/setuptools/tests/test_easy_install.py over existing file\n",
      "Installing /home/haoyu/.conda/envs/cli/lib/python3.12/site-packages/setuptools/tests/test_editable_install.py over existing file\n",
      "Installing /home/haoyu/.conda/envs/cli/lib/python3.12/site-packages/setuptools/tests/test_egg_info.py over existing file\n",
      "Installing /home/haoyu/.conda/envs/cli/lib/python3.12/site-packages/setuptools/tests/test_extern.py over existing file\n",
      "Installing /home/haoyu/.conda/envs/cli/lib/python3.12/site-packages/setuptools/tests/test_find_packages.py over existing file\n",
      "Installing /home/haoyu/.conda/envs/cli/lib/python3.12/site-packages/setuptools/tests/test_find_py_modules.py over existing file\n",
      "Installing /home/haoyu/.conda/envs/cli/lib/python3.12/site-packages/setuptools/tests/test_glob.py over existing file\n",
      "Installing /home/haoyu/.conda/envs/cli/lib/python3.12/site-packages/setuptools/tests/test_install_scripts.py over existing file\n",
      "Installing /home/haoyu/.conda/envs/cli/lib/python3.12/site-packages/setuptools/tests/test_integration.py over existing file\n",
      "Installing /home/haoyu/.conda/envs/cli/lib/python3.12/site-packages/setuptools/tests/test_logging.py over existing file\n",
      "Installing /home/haoyu/.conda/envs/cli/lib/python3.12/site-packages/setuptools/tests/test_manifest.py over existing file\n",
      "Installing /home/haoyu/.conda/envs/cli/lib/python3.12/site-packages/setuptools/tests/test_msvc14.py over existing file\n",
      "Installing /home/haoyu/.conda/envs/cli/lib/python3.12/site-packages/setuptools/tests/test_namespaces.py over existing file\n",
      "Installing /home/haoyu/.conda/envs/cli/lib/python3.12/site-packages/setuptools/tests/test_packageindex.py over existing file\n",
      "Installing /home/haoyu/.conda/envs/cli/lib/python3.12/site-packages/setuptools/tests/test_register.py over existing file\n",
      "Installing /home/haoyu/.conda/envs/cli/lib/python3.12/site-packages/setuptools/tests/test_sandbox.py over existing file\n",
      "Installing /home/haoyu/.conda/envs/cli/lib/python3.12/site-packages/setuptools/tests/test_sdist.py over existing file\n",
      "Installing /home/haoyu/.conda/envs/cli/lib/python3.12/site-packages/setuptools/tests/test_setopt.py over existing file\n",
      "Installing /home/haoyu/.conda/envs/cli/lib/python3.12/site-packages/setuptools/tests/test_setuptools.py over existing file\n",
      "Installing /home/haoyu/.conda/envs/cli/lib/python3.12/site-packages/setuptools/tests/test_unicode_utils.py over existing file\n",
      "Installing /home/haoyu/.conda/envs/cli/lib/python3.12/site-packages/setuptools/tests/test_upload.py over existing file\n",
      "Installing /home/haoyu/.conda/envs/cli/lib/python3.12/site-packages/setuptools/tests/test_virtualenv.py over existing file\n",
      "Installing /home/haoyu/.conda/envs/cli/lib/python3.12/site-packages/setuptools/tests/test_warnings.py over existing file\n",
      "Installing /home/haoyu/.conda/envs/cli/lib/python3.12/site-packages/setuptools/tests/test_wheel.py over existing file\n",
      "Installing /home/haoyu/.conda/envs/cli/lib/python3.12/site-packages/setuptools/tests/test_windows_wrappers.py over existing file\n",
      "Installing /home/haoyu/.conda/envs/cli/lib/python3.12/site-packages/setuptools/tests/text.py over existing file\n",
      "Installing /home/haoyu/.conda/envs/cli/lib/python3.12/site-packages/setuptools/tests/textwrap.py over existing file\n",
      "Installing /home/haoyu/.conda/envs/cli/lib/python3.12/site-packages/setuptools/tests/compat/__init__.py over existing file\n",
      "Installing /home/haoyu/.conda/envs/cli/lib/python3.12/site-packages/setuptools/tests/compat/py39.py over existing file\n",
      "Installing /home/haoyu/.conda/envs/cli/lib/python3.12/site-packages/setuptools/tests/config/__init__.py over existing file\n",
      "Installing /home/haoyu/.conda/envs/cli/lib/python3.12/site-packages/setuptools/tests/config/setupcfg_examples.txt over existing file\n",
      "Installing /home/haoyu/.conda/envs/cli/lib/python3.12/site-packages/setuptools/tests/config/test_apply_pyprojecttoml.py over existing file\n",
      "Installing /home/haoyu/.conda/envs/cli/lib/python3.12/site-packages/setuptools/tests/config/test_expand.py over existing file\n",
      "Installing /home/haoyu/.conda/envs/cli/lib/python3.12/site-packages/setuptools/tests/config/test_pyprojecttoml.py over existing file\n",
      "Installing /home/haoyu/.conda/envs/cli/lib/python3.12/site-packages/setuptools/tests/config/test_pyprojecttoml_dynamic_deps.py over existing file\n",
      "Installing /home/haoyu/.conda/envs/cli/lib/python3.12/site-packages/setuptools/tests/config/test_setupcfg.py over existing file\n",
      "Installing /home/haoyu/.conda/envs/cli/lib/python3.12/site-packages/setuptools/tests/config/downloads/__init__.py over existing file\n",
      "Installing /home/haoyu/.conda/envs/cli/lib/python3.12/site-packages/setuptools/tests/config/downloads/preload.py over existing file\n",
      "Installing /home/haoyu/.conda/envs/cli/lib/python3.12/site-packages/setuptools/tests/indexes/test_links_priority/external.html over existing file\n",
      "Installing /home/haoyu/.conda/envs/cli/lib/python3.12/site-packages/setuptools/tests/indexes/test_links_priority/simple/foobar/index.html over existing file\n",
      "Installing /home/haoyu/.conda/envs/cli/lib/python3.12/site-packages/setuptools/tests/integration/__init__.py over existing file\n",
      "Installing /home/haoyu/.conda/envs/cli/lib/python3.12/site-packages/setuptools/tests/integration/helpers.py over existing file\n",
      "Installing /home/haoyu/.conda/envs/cli/lib/python3.12/site-packages/setuptools/tests/integration/test_pip_install_sdist.py over existing file\n",
      "Installing /home/haoyu/.conda/envs/cli/lib/python3.12/site-packages/setuptools/_vendor/autocommand-2.2.2.dist-info/INSTALLER over existing file\n",
      "Installing /home/haoyu/.conda/envs/cli/lib/python3.12/site-packages/setuptools/_vendor/autocommand-2.2.2.dist-info/LICENSE over existing file\n",
      "Installing /home/haoyu/.conda/envs/cli/lib/python3.12/site-packages/setuptools/_vendor/autocommand-2.2.2.dist-info/METADATA over existing file\n",
      "Installing /home/haoyu/.conda/envs/cli/lib/python3.12/site-packages/setuptools/_vendor/autocommand-2.2.2.dist-info/RECORD over existing file\n",
      "Installing /home/haoyu/.conda/envs/cli/lib/python3.12/site-packages/setuptools/_vendor/autocommand-2.2.2.dist-info/WHEEL over existing file\n",
      "Installing /home/haoyu/.conda/envs/cli/lib/python3.12/site-packages/setuptools/_vendor/autocommand-2.2.2.dist-info/top_level.txt over existing file\n",
      "Installing /home/haoyu/.conda/envs/cli/lib/python3.12/site-packages/setuptools/_vendor/backports.tarfile-1.2.0.dist-info/INSTALLER over existing file\n",
      "Installing /home/haoyu/.conda/envs/cli/lib/python3.12/site-packages/setuptools/_vendor/backports.tarfile-1.2.0.dist-info/LICENSE over existing file\n",
      "Installing /home/haoyu/.conda/envs/cli/lib/python3.12/site-packages/setuptools/_vendor/backports.tarfile-1.2.0.dist-info/METADATA over existing file\n",
      "Installing /home/haoyu/.conda/envs/cli/lib/python3.12/site-packages/setuptools/_vendor/backports.tarfile-1.2.0.dist-info/RECORD over existing file\n",
      "Installing /home/haoyu/.conda/envs/cli/lib/python3.12/site-packages/setuptools/_vendor/backports.tarfile-1.2.0.dist-info/REQUESTED over existing file\n",
      "Installing /home/haoyu/.conda/envs/cli/lib/python3.12/site-packages/setuptools/_vendor/backports.tarfile-1.2.0.dist-info/WHEEL over existing file\n",
      "Installing /home/haoyu/.conda/envs/cli/lib/python3.12/site-packages/setuptools/_vendor/backports.tarfile-1.2.0.dist-info/top_level.txt over existing file\n",
      "Installing /home/haoyu/.conda/envs/cli/lib/python3.12/site-packages/setuptools/_vendor/importlib_metadata-8.0.0.dist-info/INSTALLER over existing file\n",
      "Installing /home/haoyu/.conda/envs/cli/lib/python3.12/site-packages/setuptools/_vendor/importlib_metadata-8.0.0.dist-info/LICENSE over existing file\n",
      "Installing /home/haoyu/.conda/envs/cli/lib/python3.12/site-packages/setuptools/_vendor/importlib_metadata-8.0.0.dist-info/METADATA over existing file\n",
      "Installing /home/haoyu/.conda/envs/cli/lib/python3.12/site-packages/setuptools/_vendor/importlib_metadata-8.0.0.dist-info/RECORD over existing file\n",
      "Installing /home/haoyu/.conda/envs/cli/lib/python3.12/site-packages/setuptools/_vendor/importlib_metadata-8.0.0.dist-info/REQUESTED over existing file\n",
      "Installing /home/haoyu/.conda/envs/cli/lib/python3.12/site-packages/setuptools/_vendor/importlib_metadata-8.0.0.dist-info/WHEEL over existing file\n",
      "Installing /home/haoyu/.conda/envs/cli/lib/python3.12/site-packages/setuptools/_vendor/importlib_metadata-8.0.0.dist-info/top_level.txt over existing file\n",
      "Installing /home/haoyu/.conda/envs/cli/lib/python3.12/site-packages/setuptools/_vendor/importlib_resources-6.4.0.dist-info/INSTALLER over existing file\n",
      "Installing /home/haoyu/.conda/envs/cli/lib/python3.12/site-packages/setuptools/_vendor/importlib_resources-6.4.0.dist-info/LICENSE over existing file\n",
      "Installing /home/haoyu/.conda/envs/cli/lib/python3.12/site-packages/setuptools/_vendor/importlib_resources-6.4.0.dist-info/METADATA over existing file\n",
      "Installing /home/haoyu/.conda/envs/cli/lib/python3.12/site-packages/setuptools/_vendor/importlib_resources-6.4.0.dist-info/RECORD over existing file\n",
      "Installing /home/haoyu/.conda/envs/cli/lib/python3.12/site-packages/setuptools/_vendor/importlib_resources-6.4.0.dist-info/REQUESTED over existing file\n",
      "Installing /home/haoyu/.conda/envs/cli/lib/python3.12/site-packages/setuptools/_vendor/importlib_resources-6.4.0.dist-info/WHEEL over existing file\n",
      "Installing /home/haoyu/.conda/envs/cli/lib/python3.12/site-packages/setuptools/_vendor/importlib_resources-6.4.0.dist-info/top_level.txt over existing file\n",
      "Installing /home/haoyu/.conda/envs/cli/lib/python3.12/site-packages/setuptools/_vendor/inflect-7.3.1.dist-info/INSTALLER over existing file\n",
      "Installing /home/haoyu/.conda/envs/cli/lib/python3.12/site-packages/setuptools/_vendor/inflect-7.3.1.dist-info/LICENSE over existing file\n",
      "Installing /home/haoyu/.conda/envs/cli/lib/python3.12/site-packages/setuptools/_vendor/inflect-7.3.1.dist-info/METADATA over existing file\n",
      "Installing /home/haoyu/.conda/envs/cli/lib/python3.12/site-packages/setuptools/_vendor/inflect-7.3.1.dist-info/RECORD over existing file\n",
      "Installing /home/haoyu/.conda/envs/cli/lib/python3.12/site-packages/setuptools/_vendor/inflect-7.3.1.dist-info/WHEEL over existing file\n",
      "Installing /home/haoyu/.conda/envs/cli/lib/python3.12/site-packages/setuptools/_vendor/inflect-7.3.1.dist-info/top_level.txt over existing file\n",
      "Installing /home/haoyu/.conda/envs/cli/lib/python3.12/site-packages/setuptools/_vendor/jaraco.context-5.3.0.dist-info/INSTALLER over existing file\n",
      "Installing /home/haoyu/.conda/envs/cli/lib/python3.12/site-packages/setuptools/_vendor/jaraco.context-5.3.0.dist-info/LICENSE over existing file\n",
      "Installing /home/haoyu/.conda/envs/cli/lib/python3.12/site-packages/setuptools/_vendor/jaraco.context-5.3.0.dist-info/METADATA over existing file\n",
      "Installing /home/haoyu/.conda/envs/cli/lib/python3.12/site-packages/setuptools/_vendor/jaraco.context-5.3.0.dist-info/RECORD over existing file\n",
      "Installing /home/haoyu/.conda/envs/cli/lib/python3.12/site-packages/setuptools/_vendor/jaraco.context-5.3.0.dist-info/WHEEL over existing file\n",
      "Installing /home/haoyu/.conda/envs/cli/lib/python3.12/site-packages/setuptools/_vendor/jaraco.context-5.3.0.dist-info/top_level.txt over existing file\n",
      "Installing /home/haoyu/.conda/envs/cli/lib/python3.12/site-packages/setuptools/_vendor/jaraco.functools-4.0.1.dist-info/INSTALLER over existing file\n",
      "Installing /home/haoyu/.conda/envs/cli/lib/python3.12/site-packages/setuptools/_vendor/jaraco.functools-4.0.1.dist-info/LICENSE over existing file\n",
      "Installing /home/haoyu/.conda/envs/cli/lib/python3.12/site-packages/setuptools/_vendor/jaraco.functools-4.0.1.dist-info/METADATA over existing file\n",
      "Installing /home/haoyu/.conda/envs/cli/lib/python3.12/site-packages/setuptools/_vendor/jaraco.functools-4.0.1.dist-info/RECORD over existing file\n",
      "Installing /home/haoyu/.conda/envs/cli/lib/python3.12/site-packages/setuptools/_vendor/jaraco.functools-4.0.1.dist-info/WHEEL over existing file\n",
      "Installing /home/haoyu/.conda/envs/cli/lib/python3.12/site-packages/setuptools/_vendor/jaraco.functools-4.0.1.dist-info/top_level.txt over existing file\n",
      "Installing /home/haoyu/.conda/envs/cli/lib/python3.12/site-packages/setuptools/_vendor/jaraco.text-3.12.1.dist-info/INSTALLER over existing file\n",
      "Installing /home/haoyu/.conda/envs/cli/lib/python3.12/site-packages/setuptools/_vendor/jaraco.text-3.12.1.dist-info/LICENSE over existing file\n",
      "Installing /home/haoyu/.conda/envs/cli/lib/python3.12/site-packages/setuptools/_vendor/jaraco.text-3.12.1.dist-info/METADATA over existing file\n",
      "Installing /home/haoyu/.conda/envs/cli/lib/python3.12/site-packages/setuptools/_vendor/jaraco.text-3.12.1.dist-info/RECORD over existing file\n",
      "Installing /home/haoyu/.conda/envs/cli/lib/python3.12/site-packages/setuptools/_vendor/jaraco.text-3.12.1.dist-info/REQUESTED over existing file\n",
      "Installing /home/haoyu/.conda/envs/cli/lib/python3.12/site-packages/setuptools/_vendor/jaraco.text-3.12.1.dist-info/WHEEL over existing file\n",
      "Installing /home/haoyu/.conda/envs/cli/lib/python3.12/site-packages/setuptools/_vendor/jaraco.text-3.12.1.dist-info/top_level.txt over existing file\n",
      "Installing /home/haoyu/.conda/envs/cli/lib/python3.12/site-packages/setuptools/_vendor/more_itertools-10.3.0.dist-info/INSTALLER over existing file\n",
      "Installing /home/haoyu/.conda/envs/cli/lib/python3.12/site-packages/setuptools/_vendor/more_itertools-10.3.0.dist-info/LICENSE over existing file\n",
      "Installing /home/haoyu/.conda/envs/cli/lib/python3.12/site-packages/setuptools/_vendor/more_itertools-10.3.0.dist-info/METADATA over existing file\n",
      "Installing /home/haoyu/.conda/envs/cli/lib/python3.12/site-packages/setuptools/_vendor/more_itertools-10.3.0.dist-info/RECORD over existing file\n",
      "Installing /home/haoyu/.conda/envs/cli/lib/python3.12/site-packages/setuptools/_vendor/more_itertools-10.3.0.dist-info/REQUESTED over existing file\n",
      "Installing /home/haoyu/.conda/envs/cli/lib/python3.12/site-packages/setuptools/_vendor/more_itertools-10.3.0.dist-info/WHEEL over existing file\n",
      "Installing /home/haoyu/.conda/envs/cli/lib/python3.12/site-packages/setuptools/_vendor/ordered_set-4.1.0.dist-info/INSTALLER over existing file\n",
      "Installing /home/haoyu/.conda/envs/cli/lib/python3.12/site-packages/setuptools/_vendor/ordered_set-4.1.0.dist-info/METADATA over existing file\n",
      "Installing /home/haoyu/.conda/envs/cli/lib/python3.12/site-packages/setuptools/_vendor/ordered_set-4.1.0.dist-info/RECORD over existing file\n",
      "Installing /home/haoyu/.conda/envs/cli/lib/python3.12/site-packages/setuptools/_vendor/ordered_set-4.1.0.dist-info/REQUESTED over existing file\n",
      "Installing /home/haoyu/.conda/envs/cli/lib/python3.12/site-packages/setuptools/_vendor/ordered_set-4.1.0.dist-info/WHEEL over existing file\n",
      "Installing /home/haoyu/.conda/envs/cli/lib/python3.12/site-packages/setuptools/_vendor/packaging-24.1.dist-info/INSTALLER over existing file\n",
      "Installing /home/haoyu/.conda/envs/cli/lib/python3.12/site-packages/setuptools/_vendor/packaging-24.1.dist-info/LICENSE over existing file\n",
      "Installing /home/haoyu/.conda/envs/cli/lib/python3.12/site-packages/setuptools/_vendor/packaging-24.1.dist-info/LICENSE.APACHE over existing file\n",
      "Installing /home/haoyu/.conda/envs/cli/lib/python3.12/site-packages/setuptools/_vendor/packaging-24.1.dist-info/LICENSE.BSD over existing file\n",
      "Installing /home/haoyu/.conda/envs/cli/lib/python3.12/site-packages/setuptools/_vendor/packaging-24.1.dist-info/METADATA over existing file\n",
      "Installing /home/haoyu/.conda/envs/cli/lib/python3.12/site-packages/setuptools/_vendor/packaging-24.1.dist-info/RECORD over existing file\n",
      "Installing /home/haoyu/.conda/envs/cli/lib/python3.12/site-packages/setuptools/_vendor/packaging-24.1.dist-info/REQUESTED over existing file\n",
      "Installing /home/haoyu/.conda/envs/cli/lib/python3.12/site-packages/setuptools/_vendor/packaging-24.1.dist-info/WHEEL over existing file\n",
      "Installing /home/haoyu/.conda/envs/cli/lib/python3.12/site-packages/setuptools/_vendor/platformdirs-4.2.2.dist-info/INSTALLER over existing file\n",
      "Installing /home/haoyu/.conda/envs/cli/lib/python3.12/site-packages/setuptools/_vendor/platformdirs-4.2.2.dist-info/METADATA over existing file\n",
      "Installing /home/haoyu/.conda/envs/cli/lib/python3.12/site-packages/setuptools/_vendor/platformdirs-4.2.2.dist-info/RECORD over existing file\n",
      "Installing /home/haoyu/.conda/envs/cli/lib/python3.12/site-packages/setuptools/_vendor/platformdirs-4.2.2.dist-info/REQUESTED over existing file\n",
      "Installing /home/haoyu/.conda/envs/cli/lib/python3.12/site-packages/setuptools/_vendor/platformdirs-4.2.2.dist-info/WHEEL over existing file\n",
      "Installing /home/haoyu/.conda/envs/cli/lib/python3.12/site-packages/setuptools/_vendor/tomli-2.0.1.dist-info/INSTALLER over existing file\n",
      "Installing /home/haoyu/.conda/envs/cli/lib/python3.12/site-packages/setuptools/_vendor/tomli-2.0.1.dist-info/LICENSE over existing file\n",
      "Installing /home/haoyu/.conda/envs/cli/lib/python3.12/site-packages/setuptools/_vendor/tomli-2.0.1.dist-info/METADATA over existing file\n",
      "Installing /home/haoyu/.conda/envs/cli/lib/python3.12/site-packages/setuptools/_vendor/tomli-2.0.1.dist-info/RECORD over existing file\n",
      "Installing /home/haoyu/.conda/envs/cli/lib/python3.12/site-packages/setuptools/_vendor/tomli-2.0.1.dist-info/REQUESTED over existing file\n",
      "Installing /home/haoyu/.conda/envs/cli/lib/python3.12/site-packages/setuptools/_vendor/tomli-2.0.1.dist-info/WHEEL over existing file\n",
      "Installing /home/haoyu/.conda/envs/cli/lib/python3.12/site-packages/setuptools/_vendor/typeguard-4.3.0.dist-info/INSTALLER over existing file\n",
      "Installing /home/haoyu/.conda/envs/cli/lib/python3.12/site-packages/setuptools/_vendor/typeguard-4.3.0.dist-info/LICENSE over existing file\n",
      "Installing /home/haoyu/.conda/envs/cli/lib/python3.12/site-packages/setuptools/_vendor/typeguard-4.3.0.dist-info/METADATA over existing file\n",
      "Installing /home/haoyu/.conda/envs/cli/lib/python3.12/site-packages/setuptools/_vendor/typeguard-4.3.0.dist-info/RECORD over existing file\n",
      "Installing /home/haoyu/.conda/envs/cli/lib/python3.12/site-packages/setuptools/_vendor/typeguard-4.3.0.dist-info/WHEEL over existing file\n",
      "Installing /home/haoyu/.conda/envs/cli/lib/python3.12/site-packages/setuptools/_vendor/typeguard-4.3.0.dist-info/entry_points.txt over existing file\n",
      "Installing /home/haoyu/.conda/envs/cli/lib/python3.12/site-packages/setuptools/_vendor/typeguard-4.3.0.dist-info/top_level.txt over existing file\n",
      "Installing /home/haoyu/.conda/envs/cli/lib/python3.12/site-packages/setuptools/_vendor/typing_extensions-4.12.2.dist-info/INSTALLER over existing file\n",
      "Installing /home/haoyu/.conda/envs/cli/lib/python3.12/site-packages/setuptools/_vendor/typing_extensions-4.12.2.dist-info/LICENSE over existing file\n",
      "Installing /home/haoyu/.conda/envs/cli/lib/python3.12/site-packages/setuptools/_vendor/typing_extensions-4.12.2.dist-info/METADATA over existing file\n",
      "Installing /home/haoyu/.conda/envs/cli/lib/python3.12/site-packages/setuptools/_vendor/typing_extensions-4.12.2.dist-info/RECORD over existing file\n",
      "Installing /home/haoyu/.conda/envs/cli/lib/python3.12/site-packages/setuptools/_vendor/typing_extensions-4.12.2.dist-info/WHEEL over existing file\n",
      "Installing /home/haoyu/.conda/envs/cli/lib/python3.12/site-packages/setuptools/_vendor/wheel-0.43.0.dist-info/INSTALLER over existing file\n",
      "Installing /home/haoyu/.conda/envs/cli/lib/python3.12/site-packages/setuptools/_vendor/wheel-0.43.0.dist-info/LICENSE.txt over existing file\n",
      "Installing /home/haoyu/.conda/envs/cli/lib/python3.12/site-packages/setuptools/_vendor/wheel-0.43.0.dist-info/METADATA over existing file\n",
      "Installing /home/haoyu/.conda/envs/cli/lib/python3.12/site-packages/setuptools/_vendor/wheel-0.43.0.dist-info/RECORD over existing file\n",
      "Installing /home/haoyu/.conda/envs/cli/lib/python3.12/site-packages/setuptools/_vendor/wheel-0.43.0.dist-info/REQUESTED over existing file\n",
      "Installing /home/haoyu/.conda/envs/cli/lib/python3.12/site-packages/setuptools/_vendor/wheel-0.43.0.dist-info/WHEEL over existing file\n",
      "Installing /home/haoyu/.conda/envs/cli/lib/python3.12/site-packages/setuptools/_vendor/wheel-0.43.0.dist-info/entry_points.txt over existing file\n",
      "Installing /home/haoyu/.conda/envs/cli/lib/python3.12/site-packages/setuptools/_vendor/zipp-3.19.2.dist-info/INSTALLER over existing file\n",
      "Installing /home/haoyu/.conda/envs/cli/lib/python3.12/site-packages/setuptools/_vendor/zipp-3.19.2.dist-info/LICENSE over existing file\n",
      "Installing /home/haoyu/.conda/envs/cli/lib/python3.12/site-packages/setuptools/_vendor/zipp-3.19.2.dist-info/METADATA over existing file\n",
      "Installing /home/haoyu/.conda/envs/cli/lib/python3.12/site-packages/setuptools/_vendor/zipp-3.19.2.dist-info/RECORD over existing file\n",
      "Installing /home/haoyu/.conda/envs/cli/lib/python3.12/site-packages/setuptools/_vendor/zipp-3.19.2.dist-info/REQUESTED over existing file\n",
      "Installing /home/haoyu/.conda/envs/cli/lib/python3.12/site-packages/setuptools/_vendor/zipp-3.19.2.dist-info/WHEEL over existing file\n",
      "Installing /home/haoyu/.conda/envs/cli/lib/python3.12/site-packages/setuptools/_vendor/zipp-3.19.2.dist-info/top_level.txt over existing file\n"
     ]
    },
    {
     "name": "stdout",
     "output_type": "stream",
     "text": [
      "  - Updating dynaconf (3.2.5 -> 3.2.6)\n",
      "  - Updating ipython (8.25.0 /croot/ipython_1718287989724/work -> 8.26.0)\n",
      "  - Updating pyyaml (6.0.1 /work/perseverance-python-buildout/croot/pyyaml_1698849903511/work -> 6.0.1)\n"
     ]
    }
   ],
   "source": [
    "%%sh\n",
    "bash ./scripts/setup_dev.sh"
   ]
  },
  {
   "cell_type": "code",
   "execution_count": 9,
   "id": "a09fbc9e",
   "metadata": {},
   "outputs": [
    {
     "name": "stdout",
     "output_type": "stream",
     "text": [
      "\u001b[1m                                                                                \u001b[0m\n",
      "\u001b[1m \u001b[0m\u001b[1;33mUsage: \u001b[0m\u001b[1mphenoplier [OPTIONS] COMMAND [ARGS]...\u001b[0m\u001b[1m                                 \u001b[0m\u001b[1m \u001b[0m\n",
      "\u001b[1m                                                                                \u001b[0m\n",
      " Phenopliler CLI                                                                \n",
      " \u001b[2mPhenoPLIER is a flexible computational framework that combines gene-trait and \u001b[0m \n",
      " \u001b[2mgene-drug associations with gene\u001b[0m                                               \n",
      " \u001b[2mmodules expressed in specific contexts (see Figure above). The approach uses a\u001b[0m \n",
      " \u001b[2mlatent representation (with latent\u001b[0m                                             \n",
      " \u001b[2mvariables or LVs representing gene modules) derived from a large gene \u001b[0m         \n",
      " \u001b[2mexpression compendium to integrate TWAS\u001b[0m                                        \n",
      " \u001b[2mwith drug-induced transcriptional responses for a joint analysis. The approach\u001b[0m \n",
      " \u001b[2mconsists in three main components:\u001b[0m                                             \n",
      "                                                                                \n",
      " \u001b[2m1. an LV-based regression model to compute an association between an LV and a \u001b[0m \n",
      " \u001b[2mtrait,\u001b[0m                                                                         \n",
      " \u001b[2m2. a clustering framework to learn groups of traits with shared transcriptomic\u001b[0m \n",
      " \u001b[2mproperties, and\u001b[0m                                                                \n",
      " \u001b[2m3. an LV-based drug repurposing approach that links diseases to potential \u001b[0m     \n",
      " \u001b[2mtreatments.\u001b[0m                                                                    \n",
      "                                                                                \n",
      " \u001b[2mFor more details, check out our article in Nature Communications \u001b[0m              \n",
      " \u001b[2m(https://doi.org/10.1038/s41467-023-41057-4)\u001b[0m                                   \n",
      " \u001b[2mor our Manubot web version \u001b[0m                                                    \n",
      " \u001b[2m(https://greenelab.github.io/phenoplier_manuscript/). To cite PhenoPLIER,\u001b[0m      \n",
      " \u001b[2msee 10.1038/s41467-023-41057-4:\u001b[0m                                                \n",
      "                                                                                \n",
      " \u001b[2mProjecting genetic associations through gene expression patterns highlights \u001b[0m   \n",
      " \u001b[2mdisease etiology and drug mechanisms\u001b[0m                                           \n",
      " \u001b[2mPividori, M., Lu, S., Li, B. et al.\u001b[0m                                            \n",
      " \u001b[2mNat Commun 14, 5562 (2023) https://doi.org/gspsxr\u001b[0m                              \n",
      " \u001b[2mDOI: 10.1038/s41467-023-41057-4\u001b[0m                                                \n",
      "                                                                                \n",
      " \u001b[2mInterested in using PhenoPLIER? Any questions? Check out our Discussions \u001b[0m      \n",
      " \u001b[2msection (\u001b[0m                                                                      \n",
      " \u001b[2mhttps://github.com/greenelab/phenoplier/discussions) and start a discussion by\u001b[0m \n",
      " \u001b[2masking a question or sharing your\u001b[0m                                              \n",
      " \u001b[2mthoughts. We are happy to help!\u001b[0m                                                \n",
      "                                                                                \n",
      "\u001b[2m╭─\u001b[0m\u001b[2m Options \u001b[0m\u001b[2m───────────────────────────────────────────────────────────────────\u001b[0m\u001b[2m─╮\u001b[0m\n",
      "\u001b[2m│\u001b[0m \u001b[1;36m-\u001b[0m\u001b[1;36m-version\u001b[0m             \u001b[1;32m-v\u001b[0m        Print out the app's version.                 \u001b[2m│\u001b[0m\n",
      "\u001b[2m│\u001b[0m \u001b[1;36m-\u001b[0m\u001b[1;36m-install\u001b[0m\u001b[1;36m-completion\u001b[0m            Install completion for the current shell.    \u001b[2m│\u001b[0m\n",
      "\u001b[2m│\u001b[0m \u001b[1;36m-\u001b[0m\u001b[1;36m-show\u001b[0m\u001b[1;36m-completion\u001b[0m               Show completion for the current shell, to    \u001b[2m│\u001b[0m\n",
      "\u001b[2m│\u001b[0m                                 copy it or customize the installation.       \u001b[2m│\u001b[0m\n",
      "\u001b[2m│\u001b[0m \u001b[1;36m-\u001b[0m\u001b[1;36m-help\u001b[0m                \u001b[1;32m-h\u001b[0m        Show this message and exit.                  \u001b[2m│\u001b[0m\n",
      "\u001b[2m╰──────────────────────────────────────────────────────────────────────────────╯\u001b[0m\n",
      "\u001b[2m╭─\u001b[0m\u001b[2m Commands \u001b[0m\u001b[2m──────────────────────────────────────────────────────────────────\u001b[0m\u001b[2m─╮\u001b[0m\n",
      "\u001b[2m│\u001b[0m \u001b[1;36mget  \u001b[0m\u001b[1;36m \u001b[0m Download necessary data for running PhenoPLIER's pipelines.           \u001b[2m│\u001b[0m\n",
      "\u001b[2m│\u001b[0m \u001b[1;36minit \u001b[0m\u001b[1;36m \u001b[0m Initialize settings file and necessary data in the specified          \u001b[2m│\u001b[0m\n",
      "\u001b[2m│\u001b[0m \u001b[1;36m      \u001b[0m directory.                                                            \u001b[2m│\u001b[0m\n",
      "\u001b[2m│\u001b[0m \u001b[1;36mrun  \u001b[0m\u001b[1;36m \u001b[0m Run a specific Phenoplier functionality.                              \u001b[2m│\u001b[0m\n",
      "\u001b[2m╰──────────────────────────────────────────────────────────────────────────────╯\u001b[0m\n",
      "\n"
     ]
    }
   ],
   "source": [
    "%%sh\n",
    "# Verify the installation\n",
    "poetry run python -m phenoplier -h"
   ]
  },
  {
   "cell_type": "markdown",
   "id": "bdb713c7",
   "metadata": {},
   "source": [
    "## Data Preparation"
   ]
  },
  {
   "cell_type": "code",
   "execution_count": 13,
   "id": "d56e5698",
   "metadata": {},
   "outputs": [
    {
     "name": "stdout",
     "output_type": "stream",
     "text": [
      "INFO: Downloading /tmp/phenoplier2/data/phenomexcan/phenotypes.both_sexes.tsv.gz\n"
     ]
    },
    {
     "name": "stderr",
     "output_type": "stream",
     "text": [
      "2024-08-08 15:15:46,258 [    INFO] Downloading /tmp/phenoplier2/data/phenomexcan/phenotypes.both_sexes.tsv.gz (utils.py:71)\n"
     ]
    },
    {
     "name": "stdout",
     "output_type": "stream",
     "text": [
      "INFO: Downloading /tmp/phenoplier2/data/phenomexcan/UKB_Data_Dictionary_Showcase.tsv\n"
     ]
    },
    {
     "name": "stderr",
     "output_type": "stream",
     "text": [
      "2024-08-08 15:15:47,539 [    INFO] Downloading /tmp/phenoplier2/data/phenomexcan/UKB_Data_Dictionary_Showcase.tsv (utils.py:71)\n"
     ]
    },
    {
     "name": "stdout",
     "output_type": "stream",
     "text": [
      "INFO: Downloading /tmp/phenoplier2/data/uk_biobank/codings/config3.tsv\n"
     ]
    },
    {
     "name": "stderr",
     "output_type": "stream",
     "text": [
      "2024-08-08 15:15:49,352 [    INFO] Downloading /tmp/phenoplier2/data/uk_biobank/codings/config3.tsv (utils.py:71)\n"
     ]
    },
    {
     "name": "stdout",
     "output_type": "stream",
     "text": [
      "INFO: Downloading /tmp/phenoplier2/data/uk_biobank/codings/config6.tsv\n"
     ]
    },
    {
     "name": "stderr",
     "output_type": "stream",
     "text": [
      "2024-08-08 15:15:49,839 [    INFO] Downloading /tmp/phenoplier2/data/uk_biobank/codings/config6.tsv (utils.py:71)\n"
     ]
    },
    {
     "name": "stdout",
     "output_type": "stream",
     "text": [
      "INFO: Downloading /tmp/phenoplier2/data/phenomexcan/gtex_gwas_phenotypes_metadata.tsv\n"
     ]
    },
    {
     "name": "stderr",
     "output_type": "stream",
     "text": [
      "2024-08-08 15:15:50,449 [    INFO] Downloading /tmp/phenoplier2/data/phenomexcan/gtex_gwas_phenotypes_metadata.tsv (utils.py:71)\n"
     ]
    },
    {
     "name": "stdout",
     "output_type": "stream",
     "text": [
      "INFO: Downloading /tmp/phenoplier2/data/phenomexcan/genes_metadata/genes_mapping_id_to_name.pkl\n"
     ]
    },
    {
     "name": "stderr",
     "output_type": "stream",
     "text": [
      "2024-08-08 15:15:51,159 [    INFO] Downloading /tmp/phenoplier2/data/phenomexcan/genes_metadata/genes_mapping_id_to_name.pkl (utils.py:71)\n"
     ]
    },
    {
     "name": "stdout",
     "output_type": "stream",
     "text": [
      "INFO: Downloading /tmp/phenoplier2/data/phenomexcan/genes_metadata/genes_mapping_name_to_id.pkl\n"
     ]
    },
    {
     "name": "stderr",
     "output_type": "stream",
     "text": [
      "2024-08-08 15:15:52,310 [    INFO] Downloading /tmp/phenoplier2/data/phenomexcan/genes_metadata/genes_mapping_name_to_id.pkl (utils.py:71)\n"
     ]
    },
    {
     "name": "stdout",
     "output_type": "stream",
     "text": [
      "INFO: Downloading /tmp/phenoplier2/data/biomart_genes_hg38.csv.gz\n"
     ]
    },
    {
     "name": "stderr",
     "output_type": "stream",
     "text": [
      "2024-08-08 15:15:54,553 [    INFO] Downloading /tmp/phenoplier2/data/biomart_genes_hg38.csv.gz (utils.py:71)\n"
     ]
    },
    {
     "name": "stdout",
     "output_type": "stream",
     "text": [
      "INFO: Downloading /tmp/phenoplier2/data/phenomexcan/prediction_models/mashr_eqtl.tar\n"
     ]
    },
    {
     "name": "stderr",
     "output_type": "stream",
     "text": [
      "2024-08-08 15:15:55,836 [    INFO] Downloading /tmp/phenoplier2/data/phenomexcan/prediction_models/mashr_eqtl.tar (utils.py:71)\n"
     ]
    },
    {
     "name": "stdout",
     "output_type": "stream",
     "text": [
      "INFO: Extracting /tmp/phenoplier2/data/phenomexcan/prediction_models/mashr_eqtl.tar\n"
     ]
    },
    {
     "name": "stderr",
     "output_type": "stream",
     "text": [
      "2024-08-08 15:16:57,075 [    INFO] Extracting /tmp/phenoplier2/data/phenomexcan/prediction_models/mashr_eqtl.tar (data.py:622)\n"
     ]
    },
    {
     "name": "stdout",
     "output_type": "stream",
     "text": [
      "INFO: Downloading /tmp/phenoplier2/data/smultixcan/rapid_gwas.zip\n"
     ]
    },
    {
     "name": "stderr",
     "output_type": "stream",
     "text": [
      "2024-08-08 15:16:57,278 [    INFO] Downloading /tmp/phenoplier2/data/smultixcan/rapid_gwas.zip (utils.py:71)\n"
     ]
    }
   ],
   "source": [
    "%%sh\n",
    "poetry run python -m phenoplier get t21_data"
   ]
  },
  {
   "cell_type": "code",
   "execution_count": 23,
   "id": "10c94ffb",
   "metadata": {},
   "outputs": [],
   "source": [
    "%%sh\n",
    "# Move input files to desired locations (temporary solution)\n",
    "cp ./nbs/data/htp_plier_model_k0.75_frac1_Zmatrix.pkl /tmp/phenoplier/data/multiplier/htp_plier_model_k0.75_frac1_Zmatrix.pkl\n",
    "#cp \"./nbs/data/PhenomeXcan S-MultiXcan.tsv\" \"/tmp/phenoplier/results/gls/PhenomeXcan/S-MultiXcan.tsv\""
   ]
  },
  {
   "cell_type": "markdown",
   "id": "b8ee43d7",
   "metadata": {},
   "source": [
    "## Run the pipeline"
   ]
  },
  {
   "cell_type": "markdown",
   "id": "0d7e9a4f",
   "metadata": {},
   "source": [
    "### Step 1: Compute the covariance for each chromosome of all variants present in prediction models"
   ]
  },
  {
   "cell_type": "code",
   "execution_count": 24,
   "id": "fd529a5d",
   "metadata": {},
   "outputs": [
    {
     "name": "stdout",
     "output_type": "stream",
     "text": [
      "Using reference panel folder: \n",
      "\u001b[35m/tmp/phenoplier/data/phenomexcan/ld_blocks/\u001b[0m\u001b[95mreference_panel_gtex_v8\u001b[0m\n",
      "Using eQTL model: MASHR \u001b[35m/\u001b[0m mashr_\n",
      "Using output dir base: \n",
      "\u001b[35m/tmp/phenoplier/results/gls/gene_corrs/reference_panels/gtex_v8/\u001b[0m\u001b[95mmashr\u001b[0m\n",
      "Covariance matrix dtype used: \u001b[1m<\u001b[0m\u001b[1;95mclass\u001b[0m\u001b[39m \u001b[0m\u001b[32m'numpy.float64'\u001b[0m\u001b[1m>\u001b[0m\n",
      "Processing mashr_Stomach.db\n",
      "Processing mashr_Testis.db\n",
      "Processing mashr_Brain_Cortex.db\n",
      "Processing mashr_Artery_Aorta.db\n",
      "Processing mashr_Nerve_Tibial.db\n",
      "Processing mashr_Colon_Transverse.db\n",
      "Processing mashr_Minor_Salivary_Gland.db\n",
      "Processing mashr_Brain_Cerebellar_Hemisphere.db\n",
      "Processing mashr_Brain_Amygdala.db\n",
      "Processing mashr_Artery_Tibial.db\n",
      "Processing mashr_Adrenal_Gland.db\n",
      "Processing mashr_Vagina.db\n",
      "Processing mashr_Cells_Cultured_fibroblasts.db\n",
      "Processing mashr_Prostate.db\n",
      "Processing mashr_Spleen.db\n",
      "Processing mashr_Esophagus_Muscularis.db\n",
      "Processing mashr_Whole_Blood.db\n",
      "Processing mashr_Heart_Atrial_Appendage.db\n",
      "Processing mashr_Uterus.db\n",
      "Processing mashr_Brain_Hippocampus.db\n",
      "Processing mashr_Brain_Caudate_basal_ganglia.db\n",
      "Processing mashr_Ovary.db\n",
      "Processing mashr_Brain_Spinal_cord_cervical_c-\u001b[1;36m1.\u001b[0mdb\n",
      "Processing mashr_Colon_Sigmoid.db\n",
      "Processing mashr_Artery_Coronary.db\n",
      "Processing mashr_Brain_Putamen_basal_ganglia.db\n",
      "Processing mashr_Liver.db\n",
      "Processing mashr_Brain_Frontal_Cortex_BA9.db\n",
      "Processing mashr_Thyroid.db\n",
      "Processing mashr_Cells_EBV-transformed_lymphocytes.db\n",
      "Processing mashr_Adipose_Visceral_Omentum.db\n",
      "Processing mashr_Brain_Anterior_cingulate_cortex_BA24.db\n",
      "Processing mashr_Lung.db\n",
      "Processing mashr_Muscle_Skeletal.db\n",
      "Processing mashr_Heart_Left_Ventricle.db\n",
      "Processing mashr_Kidney_Cortex.db\n",
      "Processing mashr_Skin_Sun_Exposed_Lower_leg.db\n",
      "Processing mashr_Small_Intestine_Terminal_Ileum.db\n",
      "Processing mashr_Esophagus_Gastroesophageal_Junction.db\n",
      "Processing mashr_Breast_Mammary_Tissue.db\n",
      "Processing mashr_Skin_Not_Sun_Exposed_Suprapubic.db\n",
      "Processing mashr_Pancreas.db\n",
      "Processing mashr_Brain_Hypothalamus.db\n",
      "Processing mashr_Adipose_Subcutaneous.db\n",
      "Processing mashr_Brain_Cerebellum.db\n",
      "Processing mashr_Esophagus_Mucosa.db\n",
      "Processing mashr_Brain_Substantia_nigra.db\n",
      "Processing mashr_Pituitary.db\n",
      "Processing mashr_Brain_Nucleus_accumbens_basal_ganglia.db\n",
      "Using multiplier z: \n",
      "\u001b[35m/tmp/phenoplier/data/multiplier/\u001b[0m\u001b[95mhtp_plier_model_k0.75_frac1_Zmatrix.pkl\u001b[0m\n",
      "Looking for reference panel file in \n",
      "\u001b[35m/tmp/phenoplier/data/phenomexcan/ld_blocks/\u001b[0m\u001b[95mreference_panel_gtex_v8\u001b[0m with pattern \n",
      "_metadata\n",
      "Number of SNPs in models: \u001b[1;36m237405\u001b[0m\n",
      "Number of SNPs in reference panel: \u001b[1;36m237405\u001b[0m\n",
      "Fraction of SNPs in reference panel: \u001b[1;36m1.0\u001b[0m\n"
     ]
    },
    {
     "name": "stderr",
     "output_type": "stream",
     "text": [
      "\n",
      "\u001b[31mAborted.\u001b[0m\n"
     ]
    }
   ],
   "source": [
    "%%sh\n",
    "poetry run python -m phenoplier run gene-corr cov \\\n",
    "-r GTEX_V8 \\\n",
    "-m MASHR"
   ]
  },
  {
   "cell_type": "markdown",
   "id": "8087d14a",
   "metadata": {},
   "source": [
    "### Step 2: Compile information about the GWAS and TWAS"
   ]
  },
  {
   "cell_type": "code",
   "execution_count": 25,
   "id": "db73a3d9",
   "metadata": {},
   "outputs": [
    {
     "name": "stdout",
     "output_type": "stream",
     "text": [
      "\u001b[34m[--- Info ---]\u001b[0m\n",
      "Cohort name: phenomexcan_rapid_gwas\n",
      "Reference panel: gtex_v8\n",
      "GWAS file path: \n",
      "\u001b[35m/media/haoyu/extradrive1/alpine_data/pivlab/data/phenoplier/data/phenomexcan/gwa\u001b[0m\n",
      "\u001b[35ms_parsing/full/\u001b[0m\u001b[95m22617_7112.txt.gz\u001b[0m\n",
      "S-PrediXcan folder path: \n",
      "\u001b[35m/media/haoyu/extradrive1/alpine_data/pivlab/data/phenoplier/data/phenomexcan/gen\u001b[0m\n",
      "\u001b[35me_assoc/spredixcan/rapid_gwas_project/\u001b[0m\u001b[95m22617_7112\u001b[0m\n",
      "S-PrediXcan file template: 22617_7112-gtex_v8-\u001b[1m{\u001b[0mtissue\u001b[1m}\u001b[0m-2018_10.csv\n",
      "S-MultiXcan file path: \n",
      "\u001b[35m/media/haoyu/extradrive1/alpine_data/pivlab/data/phenoplier/data/phenomexcan/gen\u001b[0m\n",
      "\u001b[35me_assoc/smultixcan/rapid_gwas_project/\u001b[0m\u001b[95msmultixcan_22617_7112_ccn30.tsv.gz\u001b[0m\n",
      "eQTL model: MASHR\n",
      "Using output dir base: \n",
      "\u001b[35m/tmp/phenoplier/results/gls/gene_corrs/cohorts/phenomexcan_rapid_gwas/gtex_v8/\u001b[0m\u001b[95mma\u001b[0m\n",
      "\u001b[95mshr\u001b[0m\n",
      "\u001b[34m[--- Data Loading ---]\u001b[0m\n",
      "Loading MultiPLIER Z genes from: \n",
      "\u001b[35m/tmp/phenoplier/data/multiplier/\u001b[0m\u001b[95mhtp_plier_model_k0.75_frac1_Zmatrix.pkl\u001b[0m\n",
      "Done. Number of MultiPLIER Z genes: \u001b[1;36m36362\u001b[0m\n",
      "Loading GWAS data from: \n",
      "\u001b[35m/media/haoyu/extradrive1/alpine_data/pivlab/data/phenoplier/data/phenomexcan/gwa\u001b[0m\n",
      "\u001b[35ms_parsing/full/\u001b[0m\u001b[95m22617_7112.txt.gz\u001b[0m\n"
     ]
    },
    {
     "name": "stderr",
     "output_type": "stream",
     "text": [
      "\n",
      "\u001b[31mAborted.\u001b[0m\n"
     ]
    }
   ],
   "source": [
    "%%sh\n",
    "poetry run python -m phenoplier run gene-corr preprocess  \\\n",
    "-c phenomexcan_rapid_gwas \\\n",
    "-g /media/haoyu/extradrive1/alpine_data/pivlab/data/phenoplier/data/phenomexcan/gwas_parsing/full/22617_7112.txt.gz \\\n",
    "-s /media/haoyu/extradrive1/alpine_data/pivlab/data/phenoplier/data/phenomexcan/gene_assoc/spredixcan/rapid_gwas_project/22617_7112 \\\n",
    "-n 22617_7112-gtex_v8-{tissue}-2018_10.csv \\\n",
    "-f /media/haoyu/extradrive1/alpine_data/pivlab/data/phenoplier/data/phenomexcan/gene_assoc/smultixcan/rapid_gwas_project/smultixcan_22617_7112_ccn30.tsv.gz \\\n",
    "-r GTEX_V8 \\\n",
    "-m MASHR"
   ]
  },
  {
   "cell_type": "markdown",
   "id": "f5b9f55b",
   "metadata": {},
   "source": [
    "### Step 3: Compute predicted expression correlations between all genes in the MultiPLIER models"
   ]
  },
  {
   "cell_type": "code",
   "execution_count": null,
   "id": "eac675be",
   "metadata": {},
   "outputs": [],
   "source": [
    "%%sh\n",
    "nohup bash -c 'parallel -k --lb -j5 \\\n",
    "\"poetry run python -m phenoplier run gene-corr correlate \\\n",
    "-c phenomexcan_rapid_gwas \\\n",
    "-r GTEX_V8 \\\n",
    "-m MASHR \\\n",
    "-s {}\" ::: {1..22} \\\n",
    ">> 3-correlate.log 2>&1' &"
   ]
  },
  {
   "cell_type": "markdown",
   "id": "cfad6242",
   "metadata": {},
   "source": [
    "### Step 4: Read all gene correlations across all chromosomes and computes a single correlation matrix by assembling a big correlation matrix with all genes"
   ]
  },
  {
   "cell_type": "code",
   "execution_count": null,
   "id": "c0529651",
   "metadata": {},
   "outputs": [],
   "source": [
    "%%sh\n",
    "poetry run python -m phenoplier run gene-corr postprocess \\\n",
    "-c phenomexcan_rapid_gwas \\\n",
    "-r GTEX_V8 \\\n",
    "-m MASHR"
   ]
  },
  {
   "cell_type": "markdown",
   "id": "d50f7a29",
   "metadata": {},
   "source": [
    "### Step 5: read the correlation matrix generated and creates new matrices with different \"within distances\" across genes"
   ]
  },
  {
   "cell_type": "code",
   "execution_count": null,
   "id": "9354a43d",
   "metadata": {},
   "outputs": [],
   "source": [
    "%%sh\n",
    "poetry run python -m phenoplier run gene-corr filter \\\n",
    "-c phenomexcan_rapid_gwas \\\n",
    "-r GTEX_V8 \\\n",
    "-d 5 \\\n",
    "-m MASHR"
   ]
  },
  {
   "cell_type": "markdown",
   "id": "0df0dcd7",
   "metadata": {},
   "source": [
    "### Step 6: Compute an LV-specific correlation matrix"
   ]
  },
  {
   "cell_type": "code",
   "execution_count": null,
   "id": "305dbf80",
   "metadata": {},
   "outputs": [],
   "source": [
    "%%sh\n",
    "\n",
    "selected_lvs=(1 3 28 34 37 43 76)\n",
    "\n",
    "nohup bash -c \"\n",
    "for i in \\\"\\${selected_lvs[@]}\\\"; do\n",
    "    poetry run python -m phenoplier run gene-corr generate \\\n",
    "    -c phenomexcan_rapid_gwas \\\n",
    "    -r GTEX_V8 \\\n",
    "    -m MASHR \\\n",
    "    -e 0.01 \\\n",
    "    -l \\\"\\$i\\\"\n",
    "done >> 6-generate.log 2>&1\n",
    "\" &\n"
   ]
  },
  {
   "cell_type": "markdown",
   "id": "7afcd851",
   "metadata": {},
   "source": [
    "### Step 7: Run the GLS regression"
   ]
  },
  {
   "cell_type": "code",
   "execution_count": 14,
   "id": "c28c9aa8",
   "metadata": {},
   "outputs": [],
   "source": [
    "import subprocess\n",
    "import re\n",
    "import threading\n",
    "from concurrent.futures import ThreadPoolExecutor\n",
    "from pathlib import Path\n",
    "\n",
    "\n",
    "# Define the directories and file paths\n",
    "INPUT_SMULTIXCAN_DIR = \"/tmp/phenoplier/data/smultixcan/alpine/rapid_gwas_project\"\n",
    "OUTPUT_DIR = \"/tmp/phenoplier/results/gls/all-LVs-all-traits\"\n",
    "LOG_FILE = OUTPUT_DIR + \"/phenoplier_output.log\"\n",
    "GENE_CORR_FILE = \"/tmp/phenoplier/results/gls/gene_corrs/cohorts/phenomexcan_rapid_gwas/gtex_v8/mashr/gene_corrs-symbols-within_distance_5mb.per_lv\"\n"
   ]
  },
  {
   "cell_type": "code",
   "execution_count": 17,
   "id": "75f3cf0d",
   "metadata": {},
   "outputs": [],
   "source": [
    "# Lock for synchronizing log file writes\n",
    "log_lock = threading.Lock()\n",
    "\n",
    "results_files = list(Path(INPUT_SMULTIXCAN_DIR).rglob(\"*.tsv.gz\"))\n",
    "pheno_pattern = re.compile(r\"smultixcan_(?P<pheno_code>.+)_ccn30.tsv.gz\")\n",
    "# All pheno_ids for all the traits\n",
    "pheno_codes = [pheno_pattern.search(f.name).group(\"pheno_code\") for f in results_files]\n",
    "assert len(results_files) == len(pheno_codes)\n",
    "assert len(results_files) == 4049\n",
    "# List of selected BMI pheno_ids\n",
    "selectd_pheno_codes = [\"21001_raw\", \"23104_raw\", \"E4_OBESITY\", \"NAFLD\", \"20002_1223\", \"E66\", \"E4_OBESITYNAS\", \"21002_raw\", \"3160_raw\"]\n"
   ]
  },
  {
   "cell_type": "code",
   "execution_count": 19,
   "id": "26452c58",
   "metadata": {},
   "outputs": [],
   "source": [
    "# Function to run the phenoplier command\n",
    "def run_phenoplier(pheno_id, lv_code):\n",
    "    print(f\"Running phenoplier for pheno_id: {pheno_id}\")\n",
    "    command = [\n",
    "        \"poetry\", \"run\", \"python\", \"-m\", \"phenoplier\", \"run\", \"regression\",\n",
    "        \"-i\", f\"{INPUT_SMULTIXCAN_DIR}/smultixcan_{pheno_id}_ccn30.tsv.gz\",\n",
    "        \"-o\", f\"{OUTPUT_DIR}/gls_phenoplier-{pheno_id}.tsv.gz\",\n",
    "        \"-g\", GENE_CORR_FILE,\n",
    "        \"-c\", \"default\",\n",
    "        \"-m\", \"sub\",\n",
    "        \"-d\", \"keep-first\",\n",
    "        \"-f\", \"/tmp/phenoplier/data/multiplier/marc_model_z.pkl\",\n",
    "        \"-l\", lv_code\n",
    "        # \"-l\", \"LV3 LV24 LV36 LV37 LV76\"\n",
    "    ]\n",
    "    result = subprocess.run(command, capture_output=True, text=True)\n",
    "\n",
    "    log_output = f\"Output for pheno_id: {pheno_id}, LV: {lv_code}\\n{result.stdout}\"\n",
    "    if result.returncode != 0:\n",
    "        log_output += f\"\\nError running phenoplier for pheno_id: {pheno_id}, LV: {lv_code}\\n{result.stderr}\\n\"\n",
    "\n",
    "    # Write to log file with synchronization\n",
    "    with log_lock:\n",
    "        with open(LOG_FILE, \"a\") as log_file:\n",
    "            log_file.write(log_output + \"\\n\")"
   ]
  },
  {
   "cell_type": "code",
   "execution_count": null,
   "id": "5cac3c86",
   "metadata": {},
   "outputs": [],
   "source": [
    "# If need to run on all LVs, uncomment the following two line\n",
    "# lv_ids = [f\"LV{i}\" for i in range(1, 118)]\n",
    "# lv_ids_str = ' '.join(lv_ids)\n",
    "\n",
    "# Selected LVs\n",
    "lv_ids_str = \"LV1 LV3 LV28 LV34 LV37 LV43 LV76\"\n",
    "# Use ThreadPoolExecutor to run tasks in parallel\n",
    "with ThreadPoolExecutor(max_workers=10) as executor:\n",
    "    # Submit tasks for selected traits\n",
    "    futures = [executor.submit(run_phenoplier, pheno_id, lv_ids_str) for pheno_id in selectd_pheno_codes]\n",
    "    # Submit tasks for all traits\n",
    "    futures = [executor.submit(run_phenoplier, pheno_id, lv_ids_str) for pheno_id in pheno_codes]\n",
    "\n",
    "    # Wait for all futures to complete\n",
    "    for future in futures:\n",
    "        future.result()"
   ]
  }
 ],
 "metadata": {
  "kernelspec": {
   "display_name": "Python 3 (ipykernel)",
   "language": "python",
   "name": "python3"
  },
  "language_info": {
   "codemirror_mode": {
    "name": "ipython",
    "version": 3
   },
   "file_extension": ".py",
   "mimetype": "text/x-python",
   "name": "python",
   "nbconvert_exporter": "python",
   "pygments_lexer": "ipython3",
   "version": "3.12.4"
  }
 },
 "nbformat": 4,
 "nbformat_minor": 5
}
