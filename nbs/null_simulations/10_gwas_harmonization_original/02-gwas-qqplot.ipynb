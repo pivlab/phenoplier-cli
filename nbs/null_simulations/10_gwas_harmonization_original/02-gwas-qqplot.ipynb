{
 "cells": [
  {
   "cell_type": "markdown",
   "metadata": {},
   "source": [
    "## Description\n",
    "It takes a GWAS on a random phenotype and verifies that the Manhattan and QQ-plots look fine (without inflation)."
   ]
  },
  {
   "cell_type": "code",
   "execution_count": 9,
   "metadata": {},
   "outputs": [],
   "source": [
    "import os\n",
    "import pandas as pd\n",
    "import numpy as np\n",
    "import matplotlib.pyplot as plt\n",
    "from statsmodels.graphics.gofplots import qqplot_2samples\n",
    "from scipy.stats import uniform\n",
    "from pathlib import Path"
   ]
  },
  {
   "cell_type": "code",
   "execution_count": null,
   "metadata": {},
   "outputs": [],
   "source": [
    "GWAS_DIR = Path(os.environ[\"PHENOPLIER_NULLSIM_RESULTS_DIR\"]) / \"harmonized_gwas\"\n",
    "print(GWAS_DIR)"
   ]
  },
  {
   "cell_type": "code",
   "execution_count": 11,
   "metadata": {},
   "outputs": [],
   "source": [
    "def load_gwas_data(filename):\n",
    "    \"\"\"Load GWAS data, filter P values, and return a DataFrame.\"\"\"\n",
    "    filepath = os.path.join(GWAS_DIR, filename)\n",
    "    gwas = pd.read_csv(filepath, sep=\"\\t\")\n",
    "    gwas = gwas[(gwas[\"pvalue\"] >= 0) & (gwas[\"pvalue\"] <= 1)]\n",
    "    return gwas"
   ]
  },
  {
   "cell_type": "code",
   "execution_count": 12,
   "metadata": {},
   "outputs": [],
   "source": [
    "def plot_manhattan(gwas, chr_col, bp_col, p_col, snp_col, title):\n",
    "    \"\"\"Generate a Manhattan plot.\"\"\"\n",
    "    gwas[\"-log10P\"] = -np.log10(gwas[p_col])\n",
    "    plt.figure(figsize=(20, 10))\n",
    "    gwas[chr_col] = gwas[chr_col].astype(\"category\")\n",
    "    gwas.sort_values(by=[chr_col, bp_col], inplace=True)\n",
    "    gwas[\"ind\"] = range(len(gwas))\n",
    "    groups = gwas.groupby(chr_col)\n",
    "\n",
    "    for i, (name, group) in enumerate(groups):\n",
    "        plt.scatter(\n",
    "            group[\"ind\"],\n",
    "            group[\"-log10P\"],\n",
    "            s=5,\n",
    "            label=name,\n",
    "            color=plt.cm.tab20.colors[i % 20]\n",
    "        )\n",
    "\n",
    "    plt.axhline(-np.log10(5e-8), color=\"red\", linestyle=\"--\", label=\"Genome-wide line\")\n",
    "    plt.xlabel(\"Chromosome\")\n",
    "    plt.ylabel(\"-log10(p-value)\")\n",
    "    plt.title(title)\n",
    "    plt.legend(title=\"Chromosome\", bbox_to_anchor=(1.05, 1), loc='upper left')\n",
    "    plt.ylim(0, 10)\n",
    "    plt.tight_layout()\n",
    "    plt.show()"
   ]
  },
  {
   "cell_type": "code",
   "execution_count": 13,
   "metadata": {},
   "outputs": [],
   "source": [
    "def plot_qq(p_values, title):    \n",
    "    \"\"\"Generate a QQ plot for GWAS p-values.\"\"\"\n",
    "    # Use the uniform distribution as the null distribution!!!\n",
    "    # Do -log10 transformation to p-values!\n",
    "    # use func qq plot 2samples\n",
    "    # x: expected array\n",
    "    # y: observed array\n",
    "    \n",
    "    # Use np.random.unitform to generate expected values with the same size as the observed p_values\n",
    "    # Or may use linspace instead of random.uniform, don't include 0 and 1. maybe 1 is okay but 0 is not.\n",
    "    \n",
    "    # Run TWAS when \n",
    "    \n",
    "    # Calculate expected p-values (under uniform distribution)\n",
    "    n = len(p_values)\n",
    "    expected_p_values = np.arange(1, n + 1) / (n + 1)\n",
    "    \n",
    "    # Convert to -log10 scale\n",
    "    observed_log_p = -np.log10(p_values)\n",
    "    expected_log_p = -np.log10(expected_p_values)\n",
    "    \n",
    "    qqplot_2samples(expected_log_p, observed_log_p, xlabel=\"Expected -log10(p)\", ylabel=\"Observed -log10(p)\", line='45')\n",
    "    plt.title(title)\n",
    "    plt.show()"
   ]
  },
  {
   "cell_type": "code",
   "execution_count": null,
   "metadata": {},
   "outputs": [],
   "source": [
    "num_rand_phenotypes = 5\n",
    "\n",
    "for phenotype in range(num_rand_phenotypes):\n",
    "    filename = f\"random.pheno{phenotype:04d}.glm.linear.tsv-harmonized.txt\"\n",
    "    \n",
    "    # Load data\n",
    "    gwas = load_gwas_data(filename)\n",
    "    print(f\"Phenotype {phenotype}: Dimensions = {gwas.shape}\")\n",
    "    print(gwas.head())\n",
    "    \n",
    "    # Manhattan plot\n",
    "    plot_manhattan(\n",
    "        gwas,\n",
    "        chr_col=\"chromosome\",\n",
    "        bp_col=\"position\",\n",
    "        p_col=\"pvalue\",\n",
    "        snp_col=\"variant_id\",\n",
    "        title=f\"Manhattan plot for phenotype {phenotype:04d}\"\n",
    "    )\n",
    "    \n",
    "    # QQ plot\n",
    "    plot_qq(gwas[\"pvalue\"], title=f\"QQ plot for phenotype {phenotype:04d}\")\n"
   ]
  }
 ],
 "metadata": {
  "kernelspec": {
   "display_name": "Python 3 (ipykernel)",
   "language": "python",
   "name": "python3"
  },
  "language_info": {
   "codemirror_mode": {
    "name": "ipython",
    "version": 3
   },
   "file_extension": ".py",
   "mimetype": "text/x-python",
   "name": "python",
   "nbconvert_exporter": "python",
   "pygments_lexer": "ipython3",
   "version": "3.12.8"
  }
 },
 "nbformat": 4,
 "nbformat_minor": 2
}
