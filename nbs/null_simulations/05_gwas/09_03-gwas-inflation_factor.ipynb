{
 "cells": [
  {
   "cell_type": "markdown",
   "metadata": {},
   "source": [
    "## Description\n",
    "It runs PLINK2 on GWAS results to check that the genomic inflation factor is withint acceptable limits."
   ]
  }
 ],
 "metadata": {
  "language_info": {
   "name": "python"
  }
 },
 "nbformat": 4,
 "nbformat_minor": 2
}
