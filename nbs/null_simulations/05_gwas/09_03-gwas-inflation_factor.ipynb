{
 "cells": [
  {
   "cell_type": "markdown",
   "id": "0cfc647f-0ac4-43b1-b80b-1468c3223332",
   "metadata": {
    "papermill": {
     "duration": 0.020005,
     "end_time": "2022-06-08T18:32:59.163312",
     "exception": false,
     "start_time": "2022-06-08T18:32:59.143307",
     "status": "completed"
    },
    "tags": []
   },
   "source": [
    "# Description"
   ]
  },
  {
   "cell_type": "markdown",
   "id": "dd6ced0f-9243-46aa-a390-1868e1a24b39",
   "metadata": {
    "papermill": {
     "duration": 0.008616,
     "end_time": "2022-06-08T18:32:59.188225",
     "exception": false,
     "start_time": "2022-06-08T18:32:59.179609",
     "status": "completed"
    },
    "tags": []
   },
   "source": [
    "It runs PLINK2 on GWAS results to check that the genomic inflation factor is withint acceptable limits."
   ]
  },
  {
   "cell_type": "markdown",
   "id": "41d0fadb-850a-486a-822f-844e25e2df3c",
   "metadata": {
    "papermill": {
     "duration": 0.00518,
     "end_time": "2022-06-08T18:32:59.199838",
     "exception": false,
     "start_time": "2022-06-08T18:32:59.194658",
     "status": "completed"
    },
    "tags": []
   },
   "source": [
    "# Modules"
   ]
  },
  {
   "cell_type": "code",
   "execution_count": 6,
   "id": "51c7f21f-6578-4fed-bab7-5b7ec93aee12",
   "metadata": {
    "execution": {
     "iopub.execute_input": "2022-06-08T18:32:59.210012Z",
     "iopub.status.busy": "2022-06-08T18:32:59.209756Z",
     "iopub.status.idle": "2022-06-08T18:32:59.465948Z",
     "shell.execute_reply": "2022-06-08T18:32:59.465349Z"
    },
    "papermill": {
     "duration": 0.263081,
     "end_time": "2022-06-08T18:32:59.467635",
     "exception": false,
     "start_time": "2022-06-08T18:32:59.204554",
     "status": "completed"
    },
    "tags": []
   },
   "outputs": [],
   "source": [
    "import os\n",
    "import re\n",
    "import subprocess\n",
    "from pathlib import Path\n",
    "import tempfile\n",
    "import shutil\n",
    "from concurrent.futures import ProcessPoolExecutor, as_completed\n",
    "\n",
    "import numpy as np\n",
    "import pandas as pd"
   ]
  },
  {
   "cell_type": "code",
   "execution_count": 4,
   "id": "0856f0a2",
   "metadata": {},
   "outputs": [],
   "source": [
    "# Utils\n",
    "def chunker(seq, size):\n",
    "    \"\"\"\n",
    "    Divides a sequence in chunks according to the given size. For example, if\n",
    "    given a list\n",
    "\n",
    "        [0,1,2,3,4,5,6,7]\n",
    "\n",
    "    and size is 3, it will return\n",
    "\n",
    "        [[0, 1, 2], [3, 4, 5], [6, 7]]\n",
    "    \"\"\"\n",
    "    return (seq[pos : pos + size] for pos in range(0, len(seq), size))\n"
   ]
  },
  {
   "cell_type": "code",
   "execution_count": 30,
   "id": "0bc6b680",
   "metadata": {},
   "outputs": [],
   "source": [
    "# Configs\n",
    "N_JOBS = 2"
   ]
  },
  {
   "cell_type": "markdown",
   "id": "87debc89-f58c-4f2f-9dca-9fb2ea8c9240",
   "metadata": {
    "papermill": {
     "duration": 0.0041,
     "end_time": "2022-06-08T18:32:59.476251",
     "exception": false,
     "start_time": "2022-06-08T18:32:59.472151",
     "status": "completed"
    },
    "tags": []
   },
   "source": [
    "# Paths"
   ]
  },
  {
   "cell_type": "code",
   "execution_count": 18,
   "id": "53e10c21-6544-4918-9bd4-4891a8215d93",
   "metadata": {
    "execution": {
     "iopub.execute_input": "2022-06-08T18:32:59.486760Z",
     "iopub.status.busy": "2022-06-08T18:32:59.486546Z",
     "iopub.status.idle": "2022-06-08T18:32:59.495233Z",
     "shell.execute_reply": "2022-06-08T18:32:59.494824Z"
    },
    "papermill": {
     "duration": 0.01603,
     "end_time": "2022-06-08T18:32:59.496565",
     "exception": false,
     "start_time": "2022-06-08T18:32:59.480535",
     "status": "completed"
    },
    "tags": []
   },
   "outputs": [
    {
     "data": {
      "text/plain": [
       "PosixPath('/tmp/phenoplier/results/gls/gwas/null_sims/ukb_40pcs/uncompressed_gwas')"
      ]
     },
     "metadata": {},
     "output_type": "display_data"
    }
   ],
   "source": [
    "GWAS_DIR = Path(os.environ[\"PHENOPLIER_RESULTS_GLS_NULL_SIMS_UKB_40PCS\"]) / \"uncompressed_gwas\"\n",
    "display(GWAS_DIR)"
   ]
  },
  {
   "cell_type": "code",
   "execution_count": 13,
   "id": "9586ae85-09a5-4568-b41f-beeb19538bf3",
   "metadata": {
    "execution": {
     "iopub.execute_input": "2022-06-08T18:32:59.506616Z",
     "iopub.status.busy": "2022-06-08T18:32:59.506446Z",
     "iopub.status.idle": "2022-06-08T18:32:59.510193Z",
     "shell.execute_reply": "2022-06-08T18:32:59.509744Z"
    },
    "papermill": {
     "duration": 0.010341,
     "end_time": "2022-06-08T18:32:59.511528",
     "exception": false,
     "start_time": "2022-06-08T18:32:59.501187",
     "status": "completed"
    },
    "tags": []
   },
   "outputs": [
    {
     "data": {
      "text/plain": [
       "PosixPath('/tmp/phenoplier/software/plink/plink2')"
      ]
     },
     "metadata": {},
     "output_type": "display_data"
    }
   ],
   "source": [
    "PLINK2 = Path(os.environ[\"PHENOPLIER_DEPENDENCIES_PLINK_EXECUTABLE_VERSION_2\"])\n",
    "display(PLINK2)"
   ]
  },
  {
   "cell_type": "markdown",
   "id": "026381fc-1e42-48f6-a098-46861bda2bd8",
   "metadata": {
    "papermill": {
     "duration": 0.004404,
     "end_time": "2022-06-08T18:32:59.520544",
     "exception": false,
     "start_time": "2022-06-08T18:32:59.516140",
     "status": "completed"
    },
    "tags": []
   },
   "source": [
    "# GWAS results files"
   ]
  },
  {
   "cell_type": "code",
   "execution_count": 27,
   "id": "d6517519-2bbd-49a4-8499-9a429935acfb",
   "metadata": {
    "execution": {
     "iopub.execute_input": "2022-06-08T18:32:59.530516Z",
     "iopub.status.busy": "2022-06-08T18:32:59.530330Z",
     "iopub.status.idle": "2022-06-08T18:32:59.543632Z",
     "shell.execute_reply": "2022-06-08T18:32:59.543140Z"
    },
    "papermill": {
     "duration": 0.01989,
     "end_time": "2022-06-08T18:32:59.544950",
     "exception": false,
     "start_time": "2022-06-08T18:32:59.525060",
     "status": "completed"
    },
    "tags": []
   },
   "outputs": [
    {
     "data": {
      "text/plain": [
       "10"
      ]
     },
     "metadata": {},
     "output_type": "display_data"
    },
    {
     "data": {
      "text/plain": [
       "[PosixPath('/tmp/phenoplier/results/gls/gwas/null_sims/ukb_40pcs/uncompressed_gwas/plink_gwas.plink2.pheno0.glm.linear.assoc.txt'),\n",
       " PosixPath('/tmp/phenoplier/results/gls/gwas/null_sims/ukb_40pcs/uncompressed_gwas/plink_gwas.plink2.pheno1.glm.linear.assoc.txt'),\n",
       " PosixPath('/tmp/phenoplier/results/gls/gwas/null_sims/ukb_40pcs/uncompressed_gwas/plink_gwas.plink2.pheno2.glm.linear.assoc.txt'),\n",
       " PosixPath('/tmp/phenoplier/results/gls/gwas/null_sims/ukb_40pcs/uncompressed_gwas/plink_gwas.plink2.pheno3.glm.linear.assoc.txt'),\n",
       " PosixPath('/tmp/phenoplier/results/gls/gwas/null_sims/ukb_40pcs/uncompressed_gwas/plink_gwas.plink2.pheno4.glm.linear.assoc.txt'),\n",
       " PosixPath('/tmp/phenoplier/results/gls/gwas/null_sims/ukb_40pcs/uncompressed_gwas/plink_gwas.plink2.pheno5.glm.linear.assoc.txt'),\n",
       " PosixPath('/tmp/phenoplier/results/gls/gwas/null_sims/ukb_40pcs/uncompressed_gwas/plink_gwas.plink2.pheno6.glm.linear.assoc.txt'),\n",
       " PosixPath('/tmp/phenoplier/results/gls/gwas/null_sims/ukb_40pcs/uncompressed_gwas/plink_gwas.plink2.pheno7.glm.linear.assoc.txt'),\n",
       " PosixPath('/tmp/phenoplier/results/gls/gwas/null_sims/ukb_40pcs/uncompressed_gwas/plink_gwas.plink2.pheno8.glm.linear.assoc.txt'),\n",
       " PosixPath('/tmp/phenoplier/results/gls/gwas/null_sims/ukb_40pcs/uncompressed_gwas/plink_gwas.plink2.pheno9.glm.linear.assoc.txt')]"
      ]
     },
     "metadata": {},
     "output_type": "display_data"
    }
   ],
   "source": [
    "gwas_files = sorted(list(GWAS_DIR.glob(\"*.glm.linear.assoc.txt\")))\n",
    "display(len(gwas_files))\n",
    "display(gwas_files[:10])"
   ]
  },
  {
   "cell_type": "markdown",
   "id": "ede5d5fc-3c7d-40c6-b21f-24624f503d88",
   "metadata": {
    "papermill": {
     "duration": 0.004522,
     "end_time": "2022-06-08T18:32:59.554254",
     "exception": false,
     "start_time": "2022-06-08T18:32:59.549732",
     "status": "completed"
    },
    "tags": []
   },
   "source": [
    "# Check inflation factor"
   ]
  },
  {
   "cell_type": "code",
   "execution_count": 20,
   "id": "d808fd2b-e71f-493e-848a-8b2c64636fa0",
   "metadata": {
    "execution": {
     "iopub.execute_input": "2022-06-08T18:32:59.564399Z",
     "iopub.status.busy": "2022-06-08T18:32:59.564229Z",
     "iopub.status.idle": "2022-06-08T18:32:59.567130Z",
     "shell.execute_reply": "2022-06-08T18:32:59.566747Z"
    },
    "papermill": {
     "duration": 0.009492,
     "end_time": "2022-06-08T18:32:59.568369",
     "exception": false,
     "start_time": "2022-06-08T18:32:59.558877",
     "status": "completed"
    },
    "tags": []
   },
   "outputs": [],
   "source": [
    "PAT = re.compile(\n",
    "    r\"Genomic inflation est\\. lambda \\(based on median chisq\\) = (?P<inf_factor>[0-9\\.]+)\\.\"\n",
    ")"
   ]
  },
  {
   "cell_type": "code",
   "execution_count": 21,
   "id": "7a89c1ab-d70c-4df6-8a37-d17dfe403375",
   "metadata": {
    "execution": {
     "iopub.execute_input": "2022-06-08T18:32:59.578664Z",
     "iopub.status.busy": "2022-06-08T18:32:59.578451Z",
     "iopub.status.idle": "2022-06-08T18:32:59.582224Z",
     "shell.execute_reply": "2022-06-08T18:32:59.581746Z"
    },
    "papermill": {
     "duration": 0.010412,
     "end_time": "2022-06-08T18:32:59.583520",
     "exception": false,
     "start_time": "2022-06-08T18:32:59.573108",
     "status": "completed"
    },
    "tags": []
   },
   "outputs": [],
   "source": [
    "# testing\n",
    "input_text = \"\"\"\n",
    "PLINK v2.00a3LM 64-bit Intel (26 Apr 2022)     www.cog-genomics.org/plink/2.0/\n",
    "(C) 2005-2022 Shaun Purcell, Christopher Chang   GNU General Public License v3\n",
    "Logging to plink2.log.\n",
    "Options in effect:\n",
    "  --adjust-file /opt/data/data/1000g/genotypes/gwas/random.pheno0.glm.linear test=ADD\n",
    "\n",
    "Start time: Fri Apr 29 16:12:24 2022\n",
    "64185 MiB RAM detected; reserving 32092 MiB for main workspace.\n",
    "Using up to 4 compute threads.\n",
    "--adjust: Genomic inflation est. lambda (based on median chisq) = 1.00316.\n",
    "--adjust-file values (5923554 tests) written to plink2.adjusted .\n",
    "End time: Fri Apr 29 16:12:33 2022\n",
    "\"\"\"\n",
    "\n",
    "m = PAT.search(input_text)\n",
    "assert m.group(\"inf_factor\") == \"1.00316\""
   ]
  },
  {
   "cell_type": "code",
   "execution_count": 22,
   "id": "f12e2b07-712c-48e0-b51d-0c8923967ba8",
   "metadata": {
    "execution": {
     "iopub.execute_input": "2022-06-08T18:32:59.593992Z",
     "iopub.status.busy": "2022-06-08T18:32:59.593829Z",
     "iopub.status.idle": "2022-06-08T18:32:59.598230Z",
     "shell.execute_reply": "2022-06-08T18:32:59.597693Z"
    },
    "papermill": {
     "duration": 0.011098,
     "end_time": "2022-06-08T18:32:59.599514",
     "exception": false,
     "start_time": "2022-06-08T18:32:59.588416",
     "status": "completed"
    },
    "tags": []
   },
   "outputs": [
    {
     "data": {
      "text/plain": [
       "'1'"
      ]
     },
     "metadata": {},
     "output_type": "display_data"
    }
   ],
   "source": [
    "# testing\n",
    "input_text = \"\"\"\n",
    "PLINK v2.00a3LM 64-bit Intel (26 Apr 2022)     www.cog-genomics.org/plink/2.0/\n",
    "(C) 2005-2022 Shaun Purcell, Christopher Chang   GNU General Public License v3\n",
    "Logging to plink2.log.\n",
    "Options in effect:\n",
    "  --adjust-file base/data/1000g/genotypes/gwas/random.pheno1.glm.linear test=ADD\n",
    "\n",
    "Start time: Fri Apr 29 12:19:51 2022\n",
    "64185 MiB RAM detected; reserving 32092 MiB for main workspace.\n",
    "Using up to 4 compute threads.\n",
    "--adjust: Genomic inflation est. lambda (based on median chisq) = 1.\n",
    "--adjust-file values (5923554 tests) written to plink2.adjusted .\n",
    "End time: Fri Apr 29 12:19:59 2022\n",
    "\"\"\"\n",
    "\n",
    "m = PAT.search(input_text)\n",
    "display(m.group(\"inf_factor\"))\n",
    "assert m.group(\"inf_factor\") == \"1\""
   ]
  },
  {
   "cell_type": "code",
   "execution_count": 24,
   "id": "71014ff7-11cd-4167-a5af-c07256f7ff84",
   "metadata": {
    "execution": {
     "iopub.execute_input": "2022-06-08T18:32:59.609876Z",
     "iopub.status.busy": "2022-06-08T18:32:59.609712Z",
     "iopub.status.idle": "2022-06-08T18:32:59.614465Z",
     "shell.execute_reply": "2022-06-08T18:32:59.614067Z"
    },
    "papermill": {
     "duration": 0.011414,
     "end_time": "2022-06-08T18:32:59.615744",
     "exception": false,
     "start_time": "2022-06-08T18:32:59.604330",
     "status": "completed"
    },
    "tags": []
   },
   "outputs": [],
   "source": [
    "def _compute_inflation_factor(gwas_files_group):\n",
    "    res = {}\n",
    "    for gwas_file in gwas_files_group:\n",
    "        output_dir = Path(tempfile.mkdtemp(prefix=\"plink-adjust-\"))\n",
    "        output_file = output_dir / \"outfile\"\n",
    "        result = subprocess.run(\n",
    "            [\n",
    "                PLINK2,\n",
    "                \"--adjust-file\",\n",
    "                str(gwas_file),\n",
    "                \"test=ADD\",\n",
    "                \"--threads\",\n",
    "                str(N_JOBS),\n",
    "                \"--out\",\n",
    "                str(output_file),\n",
    "            ],\n",
    "            stdout=subprocess.PIPE,\n",
    "        )\n",
    "\n",
    "        assert result.returncode == 0\n",
    "\n",
    "        result_output = result.stdout.decode(\"utf-8\")\n",
    "        inf_factor = float(PAT.search(result_output).group(\"inf_factor\"))\n",
    "        res[gwas_file.name] = inf_factor\n",
    "\n",
    "        # delete temporary folder\n",
    "        shutil.rmtree(output_dir)\n",
    "\n",
    "    return res"
   ]
  },
  {
   "cell_type": "code",
   "execution_count": 28,
   "id": "d0c129a1-67f4-45c4-ac8b-7bd3bd8154d7",
   "metadata": {
    "execution": {
     "iopub.execute_input": "2022-06-08T18:32:59.626251Z",
     "iopub.status.busy": "2022-06-08T18:32:59.626086Z",
     "iopub.status.idle": "2022-06-08T18:33:07.773631Z",
     "shell.execute_reply": "2022-06-08T18:33:07.772940Z"
    },
    "papermill": {
     "duration": 8.154501,
     "end_time": "2022-06-08T18:33:07.775128",
     "exception": false,
     "start_time": "2022-06-08T18:32:59.620627",
     "status": "completed"
    },
    "tags": []
   },
   "outputs": [
    {
     "data": {
      "text/plain": [
       "PosixPath('/tmp/phenoplier/results/gls/gwas/null_sims/ukb_40pcs/uncompressed_gwas/plink_gwas.plink2.pheno0.glm.linear.assoc.txt')"
      ]
     },
     "metadata": {},
     "output_type": "display_data"
    },
    {
     "data": {
      "text/plain": [
       "{'plink_gwas.plink2.pheno0.glm.linear.assoc.txt': 1.01129}"
      ]
     },
     "metadata": {},
     "output_type": "display_data"
    },
    {
     "ename": "AssertionError",
     "evalue": "",
     "output_type": "error",
     "traceback": [
      "\u001b[0;31m---------------------------------------------------------------------------\u001b[0m",
      "\u001b[0;31mAssertionError\u001b[0m                            Traceback (most recent call last)",
      "Cell \u001b[0;32mIn[28], line 9\u001b[0m\n\u001b[1;32m      7\u001b[0m \u001b[38;5;28;01massert\u001b[39;00m _gwas_file\u001b[38;5;241m.\u001b[39mname \u001b[38;5;129;01min\u001b[39;00m _tmp\n\u001b[1;32m      8\u001b[0m display(_tmp)\n\u001b[0;32m----> 9\u001b[0m \u001b[38;5;28;01massert\u001b[39;00m \u001b[38;5;241m1.005\u001b[39m \u001b[38;5;241m>\u001b[39m\u001b[38;5;241m=\u001b[39m _tmp[_gwas_file\u001b[38;5;241m.\u001b[39mname] \u001b[38;5;241m>\u001b[39m\u001b[38;5;241m=\u001b[39m \u001b[38;5;241m1.0\u001b[39m\n",
      "\u001b[0;31mAssertionError\u001b[0m: "
     ]
    }
   ],
   "source": [
    "# testing\n",
    "_gwas_file = gwas_files[0]\n",
    "display(_gwas_file)\n",
    "\n",
    "_tmp = _compute_inflation_factor([_gwas_file])\n",
    "assert _tmp is not None\n",
    "assert _gwas_file.name in _tmp\n",
    "display(_tmp)\n",
    "assert 1.005 >= _tmp[_gwas_file.name] >= 1.0"
   ]
  },
  {
   "cell_type": "code",
   "execution_count": 31,
   "id": "b203ea4e-6930-4f7a-98ed-11830bd32f07",
   "metadata": {
    "execution": {
     "iopub.execute_input": "2022-06-08T18:33:07.786905Z",
     "iopub.status.busy": "2022-06-08T18:33:07.786722Z",
     "iopub.status.idle": "2022-06-08T18:33:07.790261Z",
     "shell.execute_reply": "2022-06-08T18:33:07.789781Z"
    },
    "papermill": {
     "duration": 0.010999,
     "end_time": "2022-06-08T18:33:07.791666",
     "exception": false,
     "start_time": "2022-06-08T18:33:07.780667",
     "status": "completed"
    },
    "tags": []
   },
   "outputs": [],
   "source": [
    "gwas_files_chunks = list(\n",
    "    chunker(\n",
    "        gwas_files,\n",
    "        int(min(10, len(gwas_files) / N_JOBS)),\n",
    "    )\n",
    ")"
   ]
  },
  {
   "cell_type": "code",
   "execution_count": 32,
   "id": "781867e0-8be1-48ba-a176-19d60449f4b1",
   "metadata": {
    "execution": {
     "iopub.execute_input": "2022-06-08T18:33:07.802564Z",
     "iopub.status.busy": "2022-06-08T18:33:07.802393Z",
     "iopub.status.idle": "2022-06-08T18:33:07.806372Z",
     "shell.execute_reply": "2022-06-08T18:33:07.805876Z"
    },
    "papermill": {
     "duration": 0.010748,
     "end_time": "2022-06-08T18:33:07.807664",
     "exception": false,
     "start_time": "2022-06-08T18:33:07.796916",
     "status": "completed"
    },
    "tags": []
   },
   "outputs": [
    {
     "data": {
      "text/plain": [
       "2"
      ]
     },
     "execution_count": 32,
     "metadata": {},
     "output_type": "execute_result"
    }
   ],
   "source": [
    "len(gwas_files_chunks)"
   ]
  },
  {
   "cell_type": "code",
   "execution_count": 33,
   "id": "6290a832-c114-408f-ba86-934afdfae71b",
   "metadata": {
    "execution": {
     "iopub.execute_input": "2022-06-08T18:33:07.818959Z",
     "iopub.status.busy": "2022-06-08T18:33:07.818234Z",
     "iopub.status.idle": "2022-06-08T19:37:40.063847Z",
     "shell.execute_reply": "2022-06-08T19:37:40.063043Z"
    },
    "papermill": {
     "duration": 3872.340515,
     "end_time": "2022-06-08T19:37:40.153118",
     "exception": false,
     "start_time": "2022-06-08T18:33:07.812603",
     "status": "completed"
    },
    "tags": []
   },
   "outputs": [],
   "source": [
    "all_results = {}\n",
    "\n",
    "with ProcessPoolExecutor(max_workers=N_JOBS) as executor:\n",
    "    tasks = [\n",
    "        executor.submit(_compute_inflation_factor, chunk) for chunk in gwas_files_chunks\n",
    "    ]\n",
    "    for future in as_completed(tasks):\n",
    "        res = future.result()\n",
    "        all_results.update(res)"
   ]
  },
  {
   "cell_type": "code",
   "execution_count": 34,
   "id": "4bd2773c-e8e2-4ba0-9d85-3d3bc1a8465b",
   "metadata": {
    "execution": {
     "iopub.execute_input": "2022-06-08T19:37:40.360336Z",
     "iopub.status.busy": "2022-06-08T19:37:40.359651Z",
     "iopub.status.idle": "2022-06-08T19:37:40.380516Z",
     "shell.execute_reply": "2022-06-08T19:37:40.378577Z"
    },
    "papermill": {
     "duration": 0.049914,
     "end_time": "2022-06-08T19:37:40.385541",
     "exception": false,
     "start_time": "2022-06-08T19:37:40.335627",
     "status": "completed"
    },
    "tags": []
   },
   "outputs": [],
   "source": [
    "assert len(all_results) == len(gwas_files)"
   ]
  },
  {
   "cell_type": "markdown",
   "id": "1e6e8c3b-0f42-4af0-95c5-2522db481682",
   "metadata": {
    "papermill": {
     "duration": 0.00907,
     "end_time": "2022-06-08T19:37:40.412654",
     "exception": false,
     "start_time": "2022-06-08T19:37:40.403584",
     "status": "completed"
    },
    "tags": []
   },
   "source": [
    "# Create dataframe"
   ]
  },
  {
   "cell_type": "code",
   "execution_count": 35,
   "id": "e39ffd98-bcfd-4bc4-901d-1ed3837d092c",
   "metadata": {
    "execution": {
     "iopub.execute_input": "2022-06-08T19:37:40.426066Z",
     "iopub.status.busy": "2022-06-08T19:37:40.425890Z",
     "iopub.status.idle": "2022-06-08T19:37:40.445234Z",
     "shell.execute_reply": "2022-06-08T19:37:40.444710Z"
    },
    "papermill": {
     "duration": 0.027209,
     "end_time": "2022-06-08T19:37:40.446675",
     "exception": false,
     "start_time": "2022-06-08T19:37:40.419466",
     "status": "completed"
    },
    "tags": []
   },
   "outputs": [],
   "source": [
    "all_results_df = pd.Series(all_results, name=\"inflation_factor\").rename_axis(\n",
    "    \"phenotype_code\"\n",
    ")"
   ]
  },
  {
   "cell_type": "code",
   "execution_count": 36,
   "id": "4220f35a-be09-4792-86f2-3dab78ec5478",
   "metadata": {
    "execution": {
     "iopub.execute_input": "2022-06-08T19:37:40.457741Z",
     "iopub.status.busy": "2022-06-08T19:37:40.457574Z",
     "iopub.status.idle": "2022-06-08T19:37:40.461251Z",
     "shell.execute_reply": "2022-06-08T19:37:40.460809Z"
    },
    "papermill": {
     "duration": 0.02433,
     "end_time": "2022-06-08T19:37:40.476236",
     "exception": false,
     "start_time": "2022-06-08T19:37:40.451906",
     "status": "completed"
    },
    "tags": []
   },
   "outputs": [
    {
     "data": {
      "text/plain": [
       "(10,)"
      ]
     },
     "execution_count": 36,
     "metadata": {},
     "output_type": "execute_result"
    }
   ],
   "source": [
    "all_results_df.shape"
   ]
  },
  {
   "cell_type": "code",
   "execution_count": 37,
   "id": "209dd76c-ae3c-4742-8f96-797ef569ec43",
   "metadata": {
    "execution": {
     "iopub.execute_input": "2022-06-08T19:37:40.488829Z",
     "iopub.status.busy": "2022-06-08T19:37:40.488642Z",
     "iopub.status.idle": "2022-06-08T19:37:40.505427Z",
     "shell.execute_reply": "2022-06-08T19:37:40.504987Z"
    },
    "papermill": {
     "duration": 0.024855,
     "end_time": "2022-06-08T19:37:40.506856",
     "exception": false,
     "start_time": "2022-06-08T19:37:40.482001",
     "status": "completed"
    },
    "tags": []
   },
   "outputs": [
    {
     "data": {
      "text/plain": [
       "phenotype_code\n",
       "plink_gwas.plink2.pheno5.glm.linear.assoc.txt    1.00149\n",
       "plink_gwas.plink2.pheno6.glm.linear.assoc.txt    1.00000\n",
       "plink_gwas.plink2.pheno7.glm.linear.assoc.txt    1.00633\n",
       "plink_gwas.plink2.pheno8.glm.linear.assoc.txt    1.00000\n",
       "plink_gwas.plink2.pheno9.glm.linear.assoc.txt    1.00000\n",
       "Name: inflation_factor, dtype: float64"
      ]
     },
     "execution_count": 37,
     "metadata": {},
     "output_type": "execute_result"
    }
   ],
   "source": [
    "all_results_df.head()"
   ]
  },
  {
   "cell_type": "markdown",
   "id": "ef8c1077-67b4-4a68-9856-17ebc6c6b2ae",
   "metadata": {
    "papermill": {
     "duration": 0.006102,
     "end_time": "2022-06-08T19:37:40.518720",
     "exception": false,
     "start_time": "2022-06-08T19:37:40.512618",
     "status": "completed"
    },
    "tags": []
   },
   "source": [
    "# Checks"
   ]
  },
  {
   "cell_type": "code",
   "execution_count": 38,
   "id": "bf2ce932-98c2-4aca-8198-2c07bab3ff6a",
   "metadata": {
    "execution": {
     "iopub.execute_input": "2022-06-08T19:37:40.532364Z",
     "iopub.status.busy": "2022-06-08T19:37:40.532162Z",
     "iopub.status.idle": "2022-06-08T19:37:40.543400Z",
     "shell.execute_reply": "2022-06-08T19:37:40.542807Z"
    },
    "papermill": {
     "duration": 0.020065,
     "end_time": "2022-06-08T19:37:40.545062",
     "exception": false,
     "start_time": "2022-06-08T19:37:40.524997",
     "status": "completed"
    },
    "tags": []
   },
   "outputs": [
    {
     "data": {
      "text/plain": [
       "count    10.000000\n",
       "mean      1.002274\n",
       "std       0.003784\n",
       "min       1.000000\n",
       "25%       1.000000\n",
       "50%       1.000180\n",
       "75%       1.002825\n",
       "max       1.011290\n",
       "Name: inflation_factor, dtype: float64"
      ]
     },
     "execution_count": 38,
     "metadata": {},
     "output_type": "execute_result"
    }
   ],
   "source": [
    "all_results_df.describe()"
   ]
  },
  {
   "cell_type": "code",
   "execution_count": 39,
   "id": "30b016e6-081f-40b1-9d60-426009d10191",
   "metadata": {
    "execution": {
     "iopub.execute_input": "2022-06-08T19:37:40.558976Z",
     "iopub.status.busy": "2022-06-08T19:37:40.558766Z",
     "iopub.status.idle": "2022-06-08T19:37:40.562745Z",
     "shell.execute_reply": "2022-06-08T19:37:40.562242Z"
    },
    "papermill": {
     "duration": 0.012722,
     "end_time": "2022-06-08T19:37:40.564279",
     "exception": false,
     "start_time": "2022-06-08T19:37:40.551557",
     "status": "completed"
    },
    "tags": []
   },
   "outputs": [],
   "source": [
    "assert all_results_df.min() >= 1.0\n",
    "assert all_results_df.max() <= 1.04"
   ]
  },
  {
   "cell_type": "code",
   "execution_count": 40,
   "id": "46db0556-1e81-4330-9cbd-0b233aa49099",
   "metadata": {
    "execution": {
     "iopub.execute_input": "2022-06-08T19:37:40.579187Z",
     "iopub.status.busy": "2022-06-08T19:37:40.578984Z",
     "iopub.status.idle": "2022-06-08T19:37:40.586069Z",
     "shell.execute_reply": "2022-06-08T19:37:40.585389Z"
    },
    "papermill": {
     "duration": 0.016277,
     "end_time": "2022-06-08T19:37:40.587708",
     "exception": false,
     "start_time": "2022-06-08T19:37:40.571431",
     "status": "completed"
    },
    "tags": []
   },
   "outputs": [
    {
     "data": {
      "text/plain": [
       "phenotype_code\n",
       "plink_gwas.plink2.pheno0.glm.linear.assoc.txt    1.01129\n",
       "plink_gwas.plink2.pheno7.glm.linear.assoc.txt    1.00633\n",
       "plink_gwas.plink2.pheno4.glm.linear.assoc.txt    1.00327\n",
       "plink_gwas.plink2.pheno5.glm.linear.assoc.txt    1.00149\n",
       "plink_gwas.plink2.pheno3.glm.linear.assoc.txt    1.00036\n",
       "plink_gwas.plink2.pheno6.glm.linear.assoc.txt    1.00000\n",
       "plink_gwas.plink2.pheno9.glm.linear.assoc.txt    1.00000\n",
       "plink_gwas.plink2.pheno8.glm.linear.assoc.txt    1.00000\n",
       "plink_gwas.plink2.pheno2.glm.linear.assoc.txt    1.00000\n",
       "plink_gwas.plink2.pheno1.glm.linear.assoc.txt    1.00000\n",
       "Name: inflation_factor, dtype: float64"
      ]
     },
     "execution_count": 40,
     "metadata": {},
     "output_type": "execute_result"
    }
   ],
   "source": [
    "all_results_df.sort_values(ascending=False).head(20)"
   ]
  },
  {
   "cell_type": "markdown",
   "id": "36fdcb73-b263-43c5-a506-7fae28c0fe71",
   "metadata": {
    "papermill": {
     "duration": 0.006475,
     "end_time": "2022-06-08T19:37:40.600835",
     "exception": false,
     "start_time": "2022-06-08T19:37:40.594360",
     "status": "completed"
    },
    "tags": []
   },
   "source": [
    "# Save"
   ]
  },
  {
   "cell_type": "code",
   "execution_count": 41,
   "id": "73b69a34-b900-4f66-9f5c-88317014121a",
   "metadata": {
    "execution": {
     "iopub.execute_input": "2022-06-08T19:37:40.614397Z",
     "iopub.status.busy": "2022-06-08T19:37:40.613919Z",
     "iopub.status.idle": "2022-06-08T19:37:40.648594Z",
     "shell.execute_reply": "2022-06-08T19:37:40.648064Z"
    },
    "papermill": {
     "duration": 0.043253,
     "end_time": "2022-06-08T19:37:40.650614",
     "exception": false,
     "start_time": "2022-06-08T19:37:40.607361",
     "status": "completed"
    },
    "tags": []
   },
   "outputs": [],
   "source": [
    "all_results_df.to_csv(\n",
    "    GWAS_DIR / \"random_pheno-gwas-inflation_factors.tsv\", sep=\"\\t\"\n",
    ")"
   ]
  }
 ],
 "metadata": {
  "jupytext": {
   "cell_metadata_filter": "all,-execution,-papermill,-trusted"
  },
  "kernelspec": {
   "display_name": "Python 3 (ipykernel)",
   "language": "python",
   "name": "python3"
  },
  "language_info": {
   "codemirror_mode": {
    "name": "ipython",
    "version": 3
   },
   "file_extension": ".py",
   "mimetype": "text/x-python",
   "name": "python",
   "nbconvert_exporter": "python",
   "pygments_lexer": "ipython3",
   "version": "3.12.8"
  },
  "papermill": {
   "default_parameters": {},
   "duration": 3883.117772,
   "end_time": "2022-06-08T19:37:41.037758",
   "environment_variables": {},
   "exception": null,
   "input_path": "nbs/15_gsa_gls/20-null_simulations/05_gwas/09_03-gwas-inflation_factor.ipynb",
   "output_path": "nbs/15_gsa_gls/20-null_simulations/05_gwas/09_03-gwas-inflation_factor.run.ipynb",
   "parameters": {},
   "start_time": "2022-06-08T18:32:57.919986",
   "version": "2.3.4"
  }
 },
 "nbformat": 4,
 "nbformat_minor": 5
}
